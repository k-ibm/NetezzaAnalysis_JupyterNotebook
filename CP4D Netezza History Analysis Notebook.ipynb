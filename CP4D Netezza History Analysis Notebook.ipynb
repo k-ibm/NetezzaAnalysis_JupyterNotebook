{
 "cells": [
  {
   "cell_type": "code",
   "execution_count": 1,
   "id": "agreed-congress",
   "metadata": {
    "id": "ad8961c3843e4585823e1871f51107d3"
   },
   "outputs": [],
   "source": [
    "#pip install nzpy"
   ]
  },
  {
   "cell_type": "code",
   "execution_count": 2,
   "id": "equivalent-radius",
   "metadata": {
    "id": "a6968118-a144-424c-8faa-4e6329f4b119"
   },
   "outputs": [],
   "source": [
    "\n",
    "import nzpy\n",
    "import os\n",
    "import pandas as pd\n",
    "import matplotlib.pyplot as plt\n",
    "from matplotlib.pyplot import figure\n",
    "from datetime import datetime\n",
    "import ipywidgets as widgets\n",
    "from IPython.display import display\n",
    "import time\n",
    "from ipywidgets.widgets.interaction import show_inline_matplotlib_plots"
   ]
  },
  {
   "cell_type": "code",
   "execution_count": 3,
   "id": "complicated-cleaner",
   "metadata": {
    "id": "358d7285-b25c-4053-a4c6-08890980d373"
   },
   "outputs": [],
   "source": [
    "#Netezza Cloud Connection Information\n",
    "nz_host             = \"150.239.60.252\"\n",
    "nz_port             = 5480\n",
    "nz_user             = \"admin\"\n",
    "nz_password         = \"OWU5MzkwMzhjYzI3YTFmNmEyZmQ0OTY1\"\n",
    "\n",
    "nz_histdb           = \"HISTDBI\"  \n",
    "nz_schema           = \"ADMIN\"\n",
    "nzqh_table          = \"NZ_QUERY_HISTORY\"\n",
    "nzsu_table          = \"NZ_SYSUTIL_HISTORY\"\n",
    "\n",
    "nzqh_tsubmit_start  = \"\"\n",
    "nzqh_tsubmit_end    = \"\"\n",
    "nzqh_where          = \"\"\n",
    "nzqh_and            = \"\""
   ]
  },
  {
   "cell_type": "code",
   "execution_count": null,
   "id": "minute-cisco",
   "metadata": {},
   "outputs": [],
   "source": [
    "## USE THIS CELL TO INSERT CP4D Database CONNECTION \n",
    "\n",
    "\n",
    "## REPLACE CONNECTION NAME WITH nzcon "
   ]
  },
  {
   "cell_type": "code",
   "execution_count": 79,
   "id": "egyptian-universal",
   "metadata": {
    "id": "a11470b8-2b8c-4f42-9434-07a65e838d9e"
   },
   "outputs": [
    {
     "data": {
      "text/plain": [
       "True"
      ]
     },
     "execution_count": 79,
     "metadata": {},
     "output_type": "execute_result"
    }
   ],
   "source": [
    "# Check to see if we have made a successful connection to the database \n",
    "bool(nzcon)"
   ]
  },
  {
   "cell_type": "code",
   "execution_count": 80,
   "id": "direct-cooper",
   "metadata": {
    "id": "0d7ca530-d6db-4362-9262-9e9835393954"
   },
   "outputs": [],
   "source": [
    "ALL = 'ALL'\n",
    "def unique_sorted_values_plus_ALL(array):\n",
    "    unique = array.unique().tolist()\n",
    "    unique.sort()\n",
    "    unique.insert(0, ALL)\n",
    "    return unique"
   ]
  },
  {
   "cell_type": "code",
   "execution_count": 5,
   "id": "equipped-canadian",
   "metadata": {
    "id": "d28d5d8d-e1c0-4cd8-93f0-774d6bf5a7dc"
   },
   "outputs": [
    {
     "ename": "NameError",
     "evalue": "name 'nzcon' is not defined",
     "output_type": "error",
     "traceback": [
      "\u001b[0;31m---------------------------------------------------------------------------\u001b[0m",
      "\u001b[0;31mNameError\u001b[0m                                 Traceback (most recent call last)",
      "\u001b[0;32m<ipython-input-5-5deb392dec5c>\u001b[0m in \u001b[0;36m<module>\u001b[0;34m\u001b[0m\n\u001b[1;32m      1\u001b[0m \u001b[0msql_start\u001b[0m \u001b[0;34m=\u001b[0m \u001b[0;34m\"SELECT ENTRY FROM {}.{}\"\u001b[0m\u001b[0;34m.\u001b[0m\u001b[0mformat\u001b[0m\u001b[0;34m(\u001b[0m\u001b[0mnz_schema\u001b[0m\u001b[0;34m,\u001b[0m \u001b[0mnzsu_table\u001b[0m\u001b[0;34m)\u001b[0m\u001b[0;34m\u001b[0m\u001b[0;34m\u001b[0m\u001b[0m\n\u001b[0;32m----> 2\u001b[0;31m \u001b[0mentry_df\u001b[0m \u001b[0;34m=\u001b[0m \u001b[0mpd\u001b[0m\u001b[0;34m.\u001b[0m\u001b[0mread_sql_query\u001b[0m\u001b[0;34m(\u001b[0m\u001b[0msql_start\u001b[0m\u001b[0;34m,\u001b[0m \u001b[0mnzcon\u001b[0m\u001b[0;34m)\u001b[0m\u001b[0;34m\u001b[0m\u001b[0;34m\u001b[0m\u001b[0m\n\u001b[0m\u001b[1;32m      3\u001b[0m \u001b[0;34m\u001b[0m\u001b[0m\n\u001b[1;32m      4\u001b[0m \u001b[0mentry_df\u001b[0m\u001b[0;34m\u001b[0m\u001b[0;34m\u001b[0m\u001b[0m\n\u001b[1;32m      5\u001b[0m \u001b[0;31m# Pull just the date in format YYYY-MM-DD\u001b[0m\u001b[0;34m\u001b[0m\u001b[0;34m\u001b[0m\u001b[0;34m\u001b[0m\u001b[0m\n",
      "\u001b[0;31mNameError\u001b[0m: name 'nzcon' is not defined"
     ]
    }
   ],
   "source": [
    "\n",
    "sql_start = \"SELECT ENTRY FROM {}.{}\".format(nz_schema, nzsu_table)\n",
    "entry_df = pd.read_sql_query(sql_start, nzcon)\n",
    "\n",
    "entry_df\n",
    "# Pull just the date in format YYYY-MM-DD \n",
    "entry_df['DATE_MEAN'] = pd.to_datetime(entry_df['ENTRY']).dt.date\n"
   ]
  },
  {
   "cell_type": "code",
   "execution_count": 82,
   "id": "embedded-nitrogen",
   "metadata": {
    "id": "483b99b4-41a6-47f7-98f9-e9790e12cd5b"
   },
   "outputs": [],
   "source": [
    "\n",
    "\n",
    "dropdown_date = widgets.Dropdown(options = ['MONTH_MEAN', 'WEEKDAY_MEAN', 'HOUR_MEAN', 'DATE_MEAN', 'DATE_AND_HOUR_MEAN', 'MONTH_AND_YEAR_MEAN', 'YEAR_MEAN', 'DAY_MEAN'], description='Aggregation Index:', layout = {'width': 'max-content'}, style={'description_width': 'initial'})\n",
    "dropdown_date_start = widgets.Dropdown(options = unique_sorted_values_plus_ALL(entry_df.DATE_MEAN), description='Start Date:', layout = {'width': 'max-content'}, style={'description_width': 'initial'})\n",
    "dropdown_date_end = widgets.Dropdown(options = unique_sorted_values_plus_ALL(entry_df.DATE_MEAN), description='End Date:', layout = {'width': 'max-content'}, style={'description_width': 'initial'})\n",
    "button = widgets.Button(description='Click to Graph')\n",
    "out = widgets.Output()\n",
    "output_date = widgets.Output()\n",
    "plot_output = widgets.Output()\n",
    "\n",
    "def common_filtering(date_start, date_end, type_date):\n",
    "    output_date.clear_output()\n",
    "    plot_output.clear_output()\n",
    "\n",
    "\n",
    "    if (date_start == ALL) & (date_end == ALL):\n",
    "        starting_date = entry_df['DATE_MEAN'].min()\n",
    "        ending_date = entry_df['DATE_MEAN'].max()\n",
    "    elif (date_start == ALL):\n",
    "        starting_date = entry_df['DATE_MEAN'].min()\n",
    "        ending_date = date_end\n",
    "    elif (date_end == ALL):\n",
    "        starting_date = date_start\n",
    "        ending_date = entry_df['DATE_MEAN'].max()\n",
    "    else:\n",
    "        starting_date = date_start\n",
    "        ending_date = date_end\n",
    "        \n",
    "    nzsu_submit_start  = \"{} 00:00:00\".format(starting_date)\n",
    "    nzsu_submit_end    = \"{} 23:59:59\".format(ending_date)\n",
    "    nzsu_where          = \"WHERE ENTRY >= '{}' and ENTRY <= '{}'\".format(nzsu_submit_start,nzsu_submit_end)\n",
    "           \n",
    "    sql_dates = \"SELECT ENTRY, SPU_CPU, SPU_DISK, SPU_FABRIC, SPU_MEMORY FROM {}.{} {}\".format(nz_schema, nzsu_table, nzsu_where)\n",
    "    df1 = pd.read_sql_query(sql_dates, nzcon)\n",
    "\n",
    "    \n",
    "    if (type_date == 'MONTH_MEAN'):\n",
    "        df1['MONTH_MEAN'] = pd.to_datetime(df1['ENTRY']).dt.month  # AVERAGE_MONTH\n",
    "        \n",
    "    if (type_date == 'WEEKDAY_MEAN'):\n",
    "        # Function to Convert Date in Format MM-DD-YYY to day of the Week\n",
    "        print(\"test\")\n",
    "        weekDays = (\"0 Monday\", \"1 Tuesday\", \"2 Wednesday\", \"3 Thursday\", \"4 Friday\", \"5 Saturday\", \"6 Sunday\")\n",
    "    \n",
    "        def convert_to_weekday(date):\n",
    "            dt = datetime.strptime(date, '%Y-%m-%d %H:%M:%S.%f')\n",
    "            return weekDays[dt.weekday()]\n",
    "        \n",
    "        date_list = df1['ENTRY'].tolist()\n",
    "        new_column = []\n",
    "        for i in date_list:\n",
    "            new_column.append(convert_to_weekday(i))\n",
    "\n",
    "        df1['WEEKDAY_MEAN'] = new_column\n",
    "        \n",
    "    if (type_date == 'HOUR_MEAN'):\n",
    "        df1['HOUR_MEAN'] = pd.to_datetime(df1['ENTRY']).dt.strftime(\"%H\")\n",
    "     \n",
    "    if (type_date == 'DATE_MEAN'):\n",
    "        df1['DATE_MEAN'] = pd.to_datetime(df1['ENTRY']).dt.date  # ENTRY_DATE\n",
    "\n",
    "    if (type_date == 'DATE_AND_HOUR_MEAN'):\n",
    "        df1['HOUR_MEAN'] = pd.to_datetime(df1['ENTRY']).dt.strftime(\"%H\")\n",
    "        df1['DATE_MEAN'] = pd.to_datetime(df1['ENTRY']).dt.date  # ENTRY_DATE\n",
    "        df1['DATE_AND_HOUR_MEAN'] = df1['DATE_MEAN'].astype(str) + \"-\" + df1['HOUR_MEAN'].astype(str)  #day by hour\n",
    "\n",
    "    if (type_date == 'MONTH_AND_YEAR_MEAN'):\n",
    "        df1['YEAR_MEAN'] = pd.to_datetime(df1['ENTRY']).dt.year\n",
    "        df1['MONTH_MEAN'] = pd.to_datetime(df1['ENTRY']).dt.month  # AVERAGE_MONTH\n",
    "        df1['MONTH_AND_YEAR_MEAN'] = df1['YEAR_MEAN'].astype(str) + \"-\" + df1['MONTH_MEAN'].astype(str) #YEAR_MONTH\n",
    "        \n",
    "    if (type_date == 'YEAR_MEAN'):\n",
    "        df1['YEAR_MEAN'] = pd.to_datetime(df1['ENTRY']).dt.year\n",
    "        \n",
    "    if (type_date == 'DAY_MEAN'):\n",
    "        df1['DAY_MEAN'] = pd.to_datetime(df1['ENTRY']).dt.strftime(\"%d\")     # ENTRY_DAY\n",
    "        \n",
    "    SPU_CPU_DF = df1.groupby([type_date])['SPU_CPU'].mean()\n",
    "    SPU_DISK_DF = df1.groupby([type_date])['SPU_DISK'].mean()\n",
    "    SPU_FABRIC_DF = df1.groupby([type_date])['SPU_FABRIC'].mean()\n",
    "    SPU_MEMORY_DF = df1.groupby([type_date])['SPU_MEMORY'].mean()\n",
    "\n",
    "    SPU_CPU_DataFrame = pd.DataFrame(SPU_CPU_DF)\n",
    "    SPU_DISK_DataFrame = pd.DataFrame(SPU_DISK_DF)\n",
    "    SPU_FABRIC_DataFrame = pd.DataFrame(SPU_FABRIC_DF)\n",
    "    SPU_MEMORY_DataFrame = pd.DataFrame(SPU_MEMORY_DF)\n",
    "    \n",
    "    CPU_DISK_MERG = pd.merge(SPU_CPU_DataFrame, SPU_DISK_DataFrame, on=type_date)\n",
    "    FABRIC_MEMORY_MERG = pd.merge(SPU_FABRIC_DataFrame, SPU_MEMORY_DataFrame, on=type_date)\n",
    "\n",
    "    merged_df1 = pd.merge(CPU_DISK_MERG, FABRIC_MEMORY_MERG, on=type_date)\n",
    "    merged_df1[type_date] = merged_df1.index\n",
    "    common_filter = merged_df1\n",
    "    \n",
    "    with output_date:\n",
    "            display(common_filter)\n",
    "    \n",
    "    with plot_output:\n",
    "        plt.plot(merged_df1[type_date], merged_df1['SPU_CPU'], label = \"SPU_CPU\")\n",
    "        plt.plot(merged_df1[type_date], merged_df1['SPU_DISK'], label = \"SPU_DISK\")\n",
    "        plt.plot(merged_df1[type_date], merged_df1['SPU_FABRIC'], label = \"SPU_FABRIC\")\n",
    "        plt.plot(merged_df1[type_date], merged_df1['SPU_MEMORY'], label = \"SPU_MEMORY\")\n",
    "\n",
    "        plt.xlabel(type_date, labelpad=20)\n",
    "        plt.ylabel('Average USAGE')\n",
    "        \n",
    "        if (type_date == 'DATE_AND_HOUR_MEAN' and len(merged_df1[type_date]) > 48):\n",
    "            plt.xticks(merged_df1[type_date][::10])\n",
    "        else:\n",
    "            plt.xticks(merged_df1[type_date])\n",
    "        \n",
    "        plt.xticks(rotation = 90)\n",
    "        plt.grid()\n",
    "        plt.legend(loc='upper center', bbox_to_anchor=(1.5, 1.05),\n",
    "            ncol=3, fancybox=True, shadow=True)\n",
    "        plt.title('Average Usage by ' + type_date + ' between ' + str(starting_date) + ' and ' + str(ending_date))\n",
    "        plt.rcParams[\"figure.figsize\"] = (30,30)\n",
    "        plt.rcParams.update({'font.size': 45})\n",
    "        plt.show()\n",
    "        \n",
    "    \n",
    "def on_button_clicked(_):\n",
    "      with out:\n",
    "        out.clear_output()\n",
    "        common_filtering(dropdown_date_start.value, dropdown_date_end.value, dropdown_date.value)\n",
    "        \n",
    "\n",
    "button.on_click(on_button_clicked)"
   ]
  },
  {
   "cell_type": "markdown",
   "id": "antique-logging",
   "metadata": {
    "id": "21377c0e-9291-4f19-ba4f-4f02115a6da3"
   },
   "source": [
    "# Usage over Time"
   ]
  },
  {
   "cell_type": "code",
   "execution_count": 83,
   "id": "incorporated-listing",
   "metadata": {
    "id": "9bada042-aad6-4372-8957-00b5f1825aad"
   },
   "outputs": [
    {
     "data": {
      "application/vnd.jupyter.widget-view+json": {
       "model_id": "cda6db0c71dc471fa09ca12f868660dc",
       "version_major": 2,
       "version_minor": 0
      },
      "text/plain": [
       "Dropdown(description='Start Date:', layout=Layout(width='max-content'), options=('ALL', datetime.date(2020, 10…"
      ]
     },
     "metadata": {},
     "output_type": "display_data"
    },
    {
     "data": {
      "application/vnd.jupyter.widget-view+json": {
       "model_id": "719424df06bd4b9095f4172a5eba8043",
       "version_major": 2,
       "version_minor": 0
      },
      "text/plain": [
       "Dropdown(description='End Date:', layout=Layout(width='max-content'), options=('ALL', datetime.date(2020, 10, …"
      ]
     },
     "metadata": {},
     "output_type": "display_data"
    },
    {
     "data": {
      "application/vnd.jupyter.widget-view+json": {
       "model_id": "a313966ecf6f4c0da295d1dc922aa688",
       "version_major": 2,
       "version_minor": 0
      },
      "text/plain": [
       "Dropdown(description='Aggregation Index:', layout=Layout(width='max-content'), options=('MONTH_MEAN', 'WEEKDAY…"
      ]
     },
     "metadata": {},
     "output_type": "display_data"
    },
    {
     "data": {
      "application/vnd.jupyter.widget-view+json": {
       "model_id": "c7e391e2d01e480e8df77c8bbfb640bd",
       "version_major": 2,
       "version_minor": 0
      },
      "text/plain": [
       "Button(description='Click to Graph', style=ButtonStyle())"
      ]
     },
     "metadata": {},
     "output_type": "display_data"
    },
    {
     "data": {
      "application/vnd.jupyter.widget-view+json": {
       "model_id": "2cf95199e9a642dfbb368b6df10c225f",
       "version_major": 2,
       "version_minor": 0
      },
      "text/plain": [
       "Output()"
      ]
     },
     "metadata": {},
     "output_type": "display_data"
    },
    {
     "data": {
      "application/vnd.jupyter.widget-view+json": {
       "model_id": "38da3e34521c4b1a8e6146276c4f6ee2",
       "version_major": 2,
       "version_minor": 0
      },
      "text/plain": [
       "Output()"
      ]
     },
     "metadata": {},
     "output_type": "display_data"
    }
   ],
   "source": [
    "\n",
    "\n",
    "display(dropdown_date_start)\n",
    "display(dropdown_date_end)\n",
    "display(dropdown_date)\n",
    "display(button)\n",
    "display(output_date)\n",
    "display(plot_output)\n"
   ]
  },
  {
   "cell_type": "code",
   "execution_count": null,
   "id": "marked-monte",
   "metadata": {
    "id": "8f984a03a8704dde8b9eac447eb0221d"
   },
   "outputs": [],
   "source": []
  },
  {
   "cell_type": "code",
   "execution_count": 84,
   "id": "affected-healthcare",
   "metadata": {
    "id": "d1243c2d-59d3-4a46-9aaa-f5476b72fa35"
   },
   "outputs": [
    {
     "name": "stdout",
     "output_type": "stream",
     "text": [
      "sql execute time:3.576205015182495\n"
     ]
    }
   ],
   "source": [
    "sql_start = \"SELECT QH_TSUBMIT FROM {}.{} LIMIT 50000\".format(nz_schema, nzqh_table)\n",
    "\n",
    "start_time = time.time()\n",
    "entry_df2 = pd.read_sql_query(sql_start, nzcon)\n",
    "end_time = time.time()\n",
    "print(\"sql execute time:%s\" % (end_time - start_time))\n",
    "\n",
    "\n",
    "# Pull just the date in format YYYY-MM-DD \n",
    "entry_df2['DATE_MEAN'] = pd.to_datetime(entry_df2['QH_TSUBMIT']).dt.date\n",
    "\n",
    "\n",
    "## takes about 3 minutes for 3 million entries"
   ]
  },
  {
   "cell_type": "code",
   "execution_count": 85,
   "id": "corrected-piano",
   "metadata": {
    "id": "474cb899-25b2-4915-bef5-7ee9cf908bd1"
   },
   "outputs": [],
   "source": [
    "dropdown_date2 = widgets.Dropdown(options = ['MONTH_MEAN', 'WEEKDAY_MEAN', 'HOUR_MEAN', 'DATE_MEAN', 'DATE_AND_HOUR_MEAN', 'MONTH_AND_YEAR_MEAN', 'YEAR_MEAN', 'DAY_MEAN'], description='Aggregation Index:', layout = {'width': 'max-content'}, style={'description_width': 'initial'})\n",
    "dropdown_date_start2 = widgets.Dropdown(options = unique_sorted_values_plus_ALL(entry_df2.DATE_MEAN), description='Start Date:', layout = {'width': 'max-content'}, style={'description_width': 'initial'})\n",
    "dropdown_date_end2 = widgets.Dropdown(options = unique_sorted_values_plus_ALL(entry_df2.DATE_MEAN), description='End Date:', layout = {'width': 'max-content'}, style={'description_width': 'initial'})\n",
    "button2 = widgets.Button(description='Click to Graph')\n",
    "out2 = widgets.Output()\n",
    "output_date2 = widgets.Output()\n",
    "plot_output2 = widgets.Output()\n",
    "\n",
    "\n",
    "def common_filtering2(date_start2, date_end2, type_date2):\n",
    "    output_date2.clear_output()\n",
    "    plot_output2.clear_output()\n",
    "    \n",
    "    if (date_start2 == ALL) & (date_end2 == ALL):\n",
    "        starting_date2 = entry_df2['DATE_MEAN'].min()\n",
    "        ending_date2 = entry_df2['DATE_MEAN'].max()\n",
    "    elif (date_start2 == ALL):\n",
    "        starting_date2 = entry_df2['DATE_MEAN'].min()\n",
    "        ending_date2 = date_end2\n",
    "    elif (date_end2 == ALL):\n",
    "        starting_date2 = date_start2\n",
    "        ending_date2 = entry_df2['DATE_MEAN'].max()\n",
    "    else:\n",
    "        starting_date2 = date_start2\n",
    "        ending_date2 = date_end2\n",
    "\n",
    "    nzqh_submit_start  = \"{} 00:00:00\".format(starting_date2)\n",
    "    nzqh_submit_end    = \"{} 23:59:59\".format(ending_date2)\n",
    "    nzqh_where          = \"WHERE QH_TSUBMIT >= '{}' and QH_TSUBMIT <= '{}'\".format(nzqh_submit_start,nzqh_submit_end)\n",
    "\n",
    "    start_time = time.time()\n",
    "    sql_dates = \"SELECT QH_USER, QH_DATABASE, QH_SQL, QH_TSUBMIT FROM {}.{} {} LIMIT 1000\".format(nz_schema, nzqh_table, nzqh_where)\n",
    "    df2 = pd.read_sql_query(sql_dates, nzcon)\n",
    "    \n",
    "    if (type_date2 == 'MONTH_MEAN'):\n",
    "        df2['MONTH_MEAN'] = pd.to_datetime(df2['QH_TSUBMIT']).dt.month  # AVERAGE_MONTH\n",
    "        df2['YEAR_MEAN'] = pd.to_datetime(df2['QH_TSUBMIT']).dt.year\n",
    "        df2['MONTH_AND_YEAR_MEAN'] = df2['YEAR_MEAN'].astype(str) + \"-\" + df2['MONTH_MEAN'].astype(str) #YEAR_MONTH\n",
    "        \n",
    "        df22 = df2.groupby(['MONTH_AND_YEAR_MEAN']).agg({'QH_SQL': 'count', 'MONTH_MEAN': 'first'})\n",
    "        \n",
    "    if (type_date2 == 'WEEKDAY_MEAN'):\n",
    "        print(\"test\")\n",
    "        # Function to Convert Date in Format MM-DD-YYY to day of the Week\n",
    "        weekDays = (\"0 Monday\", \"1 Tuesday\", \"2 Wednesday\", \"3 Thursday\", \"4 Friday\", \"5 Saturday\", \"6 Sunday\")\n",
    "    \n",
    "        def convert_to_weekday(date):\n",
    "            dt = datetime.strptime(date, '%Y-%m-%d %H:%M:%S')\n",
    "            return weekDays[dt.weekday()]\n",
    "        \n",
    "        date_list = df2['QH_TSUBMIT'].tolist()\n",
    "        new_column = []\n",
    "        for i in date_list:\n",
    "            new_column.append(convert_to_weekday(i))\n",
    "\n",
    "        df2['WEEKDAY_MEAN'] = new_column\n",
    "        df2['DATE_MEAN'] = pd.to_datetime(df2['QH_TSUBMIT']).dt.date  # ENTRY_DATE\n",
    "        \n",
    "        df22 = df2.groupby(['DATE_MEAN']).agg({'QH_SQL': 'count', 'WEEKDAY_MEAN': 'first'})\n",
    "        \n",
    "    if (type_date2 == 'HOUR_MEAN'):\n",
    "        df2['HOUR_MEAN'] = pd.to_datetime(df2['QH_TSUBMIT']).dt.strftime(\"%H\")\n",
    "        df2['DATE_MEAN'] = pd.to_datetime(df2['QH_TSUBMIT']).dt.date  # ENTRY_DATE\n",
    "        df2['DATE_AND_HOUR_MEAN'] = df2['DATE_MEAN'].astype(str) + \"-\" + df2['HOUR_MEAN'].astype(str)  #day by hour\n",
    "       \n",
    "        df22 = df2.groupby(['DATE_AND_HOUR_MEAN']).agg({'QH_SQL': 'count', 'HOUR_MEAN': 'first'})\n",
    "        \n",
    "    if (type_date2 == 'DATE_MEAN'):\n",
    "        df2['DATE_MEAN'] = pd.to_datetime(df2['QH_TSUBMIT']).dt.date  # ENTRY_DATE\n",
    "        df22 = df2.groupby(['DATE_MEAN']).agg({'QH_SQL': 'count', 'DATE_MEAN': 'first'})\n",
    "\n",
    "    if (type_date2 == 'DATE_AND_HOUR_MEAN'):\n",
    "        df2['HOUR_MEAN'] = pd.to_datetime(df2['QH_TSUBMIT']).dt.strftime(\"%H\")\n",
    "        df2['DATE_MEAN'] = pd.to_datetime(df2['QH_TSUBMIT']).dt.date  # ENTRY_DATE\n",
    "        df2['DATE_AND_HOUR_MEAN'] = df2['DATE_MEAN'].astype(str) + \"-\" + df2['HOUR_MEAN'].astype(str)  #day by hour\n",
    "        df22 = df2.groupby(['DATE_AND_HOUR_MEAN']).agg({'QH_SQL': 'count', 'DATE_AND_HOUR_MEAN': 'first'})\n",
    "\n",
    "\n",
    "    if (type_date2 == 'MONTH_AND_YEAR_MEAN'):\n",
    "        df2['YEAR_MEAN'] = pd.to_datetime(df2['QH_TSUBMIT']).dt.year\n",
    "        df2['MONTH_MEAN'] = pd.to_datetime(df2['QH_TSUBMIT']).dt.month  # AVERAGE_MONTH\n",
    "        df2['MONTH_AND_YEAR_MEAN'] = df2['YEAR_MEAN'].astype(str) + \"-\" + df2['MONTH_MEAN'].astype(str) #YEAR_MONTH\n",
    "        df22 = df2.groupby(['MONTH_AND_YEAR_MEAN']).agg({'QH_SQL': 'count', 'MONTH_AND_YEAR_MEAN': 'first'})\n",
    "\n",
    "    if (type_date2 == 'YEAR_MEAN'):\n",
    "        df2['YEAR_MEAN'] = pd.to_datetime(df2['QH_TSUBMIT']).dt.year\n",
    "        df22 = df2.groupby(['YEAR_MEAN']).agg({'QH_SQL': 'count', 'YEAR_MEAN': 'first'})\n",
    "\n",
    "    if (type_date2 == 'DAY_MEAN'):\n",
    "        df2['DAY_MEAN'] = pd.to_datetime(df2['QH_TSUBMIT']).dt.strftime(\"%d\")     # ENTRY_DAY\n",
    "        df2['DATE_MEAN'] = pd.to_datetime(df2['QH_TSUBMIT']).dt.date  # ENTRY_DATE\n",
    "        df22 = df2.groupby(['DATE_MEAN']).agg({'QH_SQL': 'count', 'DAY_MEAN': 'first'})\n",
    "    \n",
    "    df22.index.names = ['Date']\n",
    "        \n",
    "    MEAN_DF = df22.groupby([type_date2]).mean()\n",
    "    SUM_DF = df22.groupby([type_date2]).sum()\n",
    "\n",
    "    merged_df2 = pd.merge(MEAN_DF, SUM_DF, on=type_date2)\n",
    "    merged_df2.columns = ['AVG', 'COUNT']\n",
    "    merged_df2.reset_index(inplace=True)\n",
    "    merged_df2 = merged_df2.rename(columns = {'index':'Date'})\n",
    "\n",
    "    \n",
    "    common_filter2 = merged_df2\n",
    "    \n",
    "    with output_date2:\n",
    "            display(common_filter2)\n",
    "    \n",
    "    with plot_output2:\n",
    "        merged_df2.plot(x=type_date2, y=[\"AVG\", \"COUNT\"], kind=\"bar\")\n",
    "        plt.xlabel(type_date2, labelpad = 20)\n",
    "        plt.ylabel('QUERY COUNT')\n",
    "        plt.xticks(rotation = 90)\n",
    "        plt.grid()\n",
    "        plt.legend(loc='upper center', bbox_to_anchor=(1.5, 1.05),\n",
    "            ncol=3, fancybox=True, shadow=True)\n",
    "        plt.title('QUERY VOLUME by  ' + type_date2 + ' between ' + str(starting_date2) + ' and ' + str(ending_date2))\n",
    "        plt.rcParams[\"figure.figsize\"] = (20,30)\n",
    "        plt.rcParams.update({'font.size': 22})\n",
    "        plt.show()\n",
    "        end_time = time.time()\n",
    "        print(\"sql execute time:%s\" % (end_time - start_time))\n",
    "    \n",
    "            \n",
    "\n",
    "\n",
    "def on_button_clicked2(_):\n",
    "      with out2:\n",
    "        out2.clear_output()\n",
    "        common_filtering2(dropdown_date_start2.value, dropdown_date_end2.value, dropdown_date2.value)\n",
    "\n",
    "button2.on_click(on_button_clicked2)\n"
   ]
  },
  {
   "cell_type": "markdown",
   "id": "assumed-trouble",
   "metadata": {
    "id": "907ec678-243a-45f7-ac39-ed8bc9cc550b"
   },
   "source": [
    "# Volume Over Time"
   ]
  },
  {
   "cell_type": "code",
   "execution_count": 86,
   "id": "sitting-gamma",
   "metadata": {
    "id": "bf6fa630-d52b-4eb0-b8c7-5a2ba69acbc9"
   },
   "outputs": [
    {
     "data": {
      "application/vnd.jupyter.widget-view+json": {
       "model_id": "9bf47900b3a8443792e025f526da8f3d",
       "version_major": 2,
       "version_minor": 0
      },
      "text/plain": [
       "Dropdown(description='Start Date:', layout=Layout(width='max-content'), options=('ALL', datetime.date(2020, 10…"
      ]
     },
     "metadata": {},
     "output_type": "display_data"
    },
    {
     "data": {
      "application/vnd.jupyter.widget-view+json": {
       "model_id": "175d1cb62b3f458a8ea5ee09d021fd10",
       "version_major": 2,
       "version_minor": 0
      },
      "text/plain": [
       "Dropdown(description='End Date:', layout=Layout(width='max-content'), options=('ALL', datetime.date(2020, 10, …"
      ]
     },
     "metadata": {},
     "output_type": "display_data"
    },
    {
     "data": {
      "application/vnd.jupyter.widget-view+json": {
       "model_id": "7c7d725a64fe46d582557320d566ffc9",
       "version_major": 2,
       "version_minor": 0
      },
      "text/plain": [
       "Dropdown(description='Aggregation Index:', layout=Layout(width='max-content'), options=('MONTH_MEAN', 'WEEKDAY…"
      ]
     },
     "metadata": {},
     "output_type": "display_data"
    },
    {
     "data": {
      "application/vnd.jupyter.widget-view+json": {
       "model_id": "4102d295375e47eda4e22642b881d958",
       "version_major": 2,
       "version_minor": 0
      },
      "text/plain": [
       "Button(description='Click to Graph', style=ButtonStyle())"
      ]
     },
     "metadata": {},
     "output_type": "display_data"
    },
    {
     "data": {
      "application/vnd.jupyter.widget-view+json": {
       "model_id": "1a6c7ba58ea44028b11fa04fbf13adf4",
       "version_major": 2,
       "version_minor": 0
      },
      "text/plain": [
       "Output()"
      ]
     },
     "metadata": {},
     "output_type": "display_data"
    },
    {
     "data": {
      "application/vnd.jupyter.widget-view+json": {
       "model_id": "6f4ed73411d24df391a7e201e3ebf119",
       "version_major": 2,
       "version_minor": 0
      },
      "text/plain": [
       "Output()"
      ]
     },
     "metadata": {},
     "output_type": "display_data"
    }
   ],
   "source": [
    "display(dropdown_date_start2)\n",
    "display(dropdown_date_end2)\n",
    "display(dropdown_date2)\n",
    "display(button2)\n",
    "display(output_date2)\n",
    "display(plot_output2)"
   ]
  },
  {
   "cell_type": "code",
   "execution_count": 87,
   "id": "employed-administration",
   "metadata": {
    "id": "833d95eb-b4a9-44b6-b015-8b14fad27ee2"
   },
   "outputs": [],
   "source": [
    "dropdown_date3 = widgets.Dropdown(options = ['MONTH_MEAN', 'WEEKDAY_MEAN', 'HOUR_MEAN', 'DATE_MEAN', 'DATE_AND_HOUR_MEAN', 'MONTH_AND_YEAR_MEAN', 'YEAR_MEAN', 'DAY_MEAN'], description='Aggregation Index:', layout = {'width': 'max-content'}, style={'description_width': 'initial'})\n",
    "dropdown_date_start3 = widgets.Dropdown(options = unique_sorted_values_plus_ALL(entry_df2.DATE_MEAN), description='Start Date:', layout = {'width': 'max-content'}, style={'description_width': 'initial'})\n",
    "dropdown_date_end3 = widgets.Dropdown(options = unique_sorted_values_plus_ALL(entry_df2.DATE_MEAN), description='End Date:', layout = {'width': 'max-content'}, style={'description_width': 'initial'})\n",
    "button3 = widgets.Button(description='Click to Graph')\n",
    "out3 = widgets.Output()\n",
    "output_date3 = widgets.Output()\n",
    "plot_output3 = widgets.Output()\n",
    "\n",
    "\n",
    "def common_filtering3(date_start3, date_end3, type_date3):\n",
    "    output_date3.clear_output()\n",
    "    plot_output3.clear_output()\n",
    "    \n",
    "    if (date_start3 == ALL) & (date_end3 == ALL):\n",
    "        starting_date3 = entry_df2['DATE_MEAN'].min()\n",
    "        ending_date3 = entry_df2['DATE_MEAN'].max()\n",
    "    elif (date_start3 == ALL):\n",
    "        starting_date3 = entry_df2['DATE_MEAN'].min()\n",
    "        ending_date3 = date_end3\n",
    "    elif (date_end3 == ALL):\n",
    "        starting_date3 = date_start3\n",
    "        ending_date3 = entry_df2['DATE_MEAN'].max()\n",
    "    else:\n",
    "        starting_date3 = date_start3\n",
    "        ending_date3 = date_end3\n",
    "\n",
    "    nzqh_submit_start  = \"{} 00:00:00\".format(starting_date3)\n",
    "    nzqh_submit_end    = \"{} 23:59:59\".format(ending_date3)\n",
    "    nzqh_where          = \"WHERE QH_TSUBMIT >= '{}' and QH_TSUBMIT <= '{}'\".format(nzqh_submit_start,nzqh_submit_end)\n",
    "\n",
    "    start_time = time.time()\n",
    "    sql_dates = \"SELECT QH_TSUBMIT, QH_TSTART, QH_TEND FROM {}.{} {} LIMIT 1000\".format(nz_schema, nzqh_table, nzqh_where)\n",
    "    df3 = pd.read_sql_query(sql_dates, nzcon)\n",
    "    \n",
    "    df3['Q_TIME'] = (pd.to_datetime(df3['QH_TSTART']) - pd.to_datetime(df3['QH_TSUBMIT'])).dt.total_seconds()\n",
    "    df3['RUNTIME'] = (pd.to_datetime(df3['QH_TEND']) - pd.to_datetime(df3['QH_TSTART'])).dt.total_seconds()\n",
    "\n",
    "    \n",
    "    if (type_date3 == 'MONTH_MEAN'):\n",
    "        df3['MONTH_MEAN'] = pd.to_datetime(df3['QH_TSUBMIT']).dt.month  # AVERAGE_MONTH\n",
    "        df3['YEAR_MEAN'] = pd.to_datetime(df3['QH_TSUBMIT']).dt.year\n",
    "        \n",
    "    if (type_date3 == 'WEEKDAY_MEAN'):\n",
    "        print(\"test weekday\")\n",
    "        # Function to Convert Date in Format MM-DD-YYY to day of the Week\n",
    "        weekDays = (\"0 Monday\", \"1 Tuesday\", \"2 Wednesday\", \"3 Thursday\", \"4 Friday\", \"5 Saturday\", \"6 Sunday\")\n",
    "    \n",
    "        def convert_to_weekday(date):\n",
    "            dt = datetime.strptime(date, '%Y-%m-%d %H:%M:%S')\n",
    "            return weekDays[dt.weekday()]\n",
    "        \n",
    "        date_list = df3['QH_TSUBMIT'].tolist()\n",
    "        new_column = []\n",
    "        for i in date_list:\n",
    "            new_column.append(convert_to_weekday(i))\n",
    "\n",
    "        df3['WEEKDAY_MEAN'] = new_column\n",
    "        \n",
    "    if (type_date3 == 'HOUR_MEAN'):\n",
    "        df3['HOUR_MEAN'] = pd.to_datetime(df3['QH_TSUBMIT']).dt.strftime(\"%H\")\n",
    "        \n",
    "    if (type_date3 == 'DATE_MEAN'):\n",
    "        df3['DATE_MEAN'] = pd.to_datetime(df3['QH_TSUBMIT']).dt.date  # ENTRY_DATE\n",
    "       \n",
    "    if (type_date3 == 'DATE_AND_HOUR_MEAN'):\n",
    "        df3['HOUR_MEAN'] = pd.to_datetime(df3['QH_TSUBMIT']).dt.strftime(\"%H\")\n",
    "        df3['DATE_MEAN'] = pd.to_datetime(df3['QH_TSUBMIT']).dt.date  # ENTRY_DATE\n",
    "        df3['DATE_AND_HOUR_MEAN'] = df3['DATE_MEAN'].astype(str) + \"-\" + df3['HOUR_MEAN'].astype(str)  #day by hour\n",
    "        \n",
    "\n",
    "    if (type_date3 == 'MONTH_AND_YEAR_MEAN'):\n",
    "        df3['YEAR_MEAN'] = pd.to_datetime(df3['QH_TSUBMIT']).dt.year\n",
    "        df3['MONTH_MEAN'] = pd.to_datetime(df3['QH_TSUBMIT']).dt.month  # AVERAGE_MONTH\n",
    "        df3['MONTH_AND_YEAR_MEAN'] = df3['YEAR_MEAN'].astype(str) + \"-\" + df3['MONTH_MEAN'].astype(str) #YEAR_MONTH\n",
    "        \n",
    "    if (type_date3 == 'YEAR_MEAN'):\n",
    "        df3['YEAR_MEAN'] = pd.to_datetime(df3['QH_TSUBMIT']).dt.year\n",
    "        \n",
    "    if (type_date3 == 'DAY_MEAN'):\n",
    "        df3['DAY_MEAN'] = pd.to_datetime(df3['QH_TSUBMIT']).dt.strftime(\"%d\")     # ENTRY_DAY\n",
    "       \n",
    "    \n",
    "    QUEUE_TIME_DF = df3.groupby([type_date3])['Q_TIME'].sum()\n",
    "    RUNTIME_DF = df3.groupby([type_date3])['RUNTIME'].sum()\n",
    "        \n",
    "    QUEUE_TIME_DataFrame = pd.DataFrame(QUEUE_TIME_DF)\n",
    "    RUNTIME_DataFrame = pd.DataFrame(RUNTIME_DF)\n",
    "\n",
    "    merged_df3 = pd.merge(QUEUE_TIME_DataFrame, RUNTIME_DataFrame, on=type_date3)\n",
    "\n",
    "    merged_df3[type_date3] = merged_df3.index\n",
    "        \n",
    "    common_filter3 = merged_df3\n",
    "    \n",
    "    with output_date3:\n",
    "            display(common_filter3)\n",
    "    \n",
    "    with plot_output3:\n",
    "        plt.plot(merged_df3[type_date3], merged_df3['Q_TIME'], label = \"Queue Time\")\n",
    "        plt.plot(merged_df3[type_date3], merged_df3['RUNTIME'], label = \"Run Time\")\n",
    "       \n",
    "    \n",
    "        plt.xlabel(type_date3)\n",
    "        if (type_date3 == 'DATE_AND_HOUR_MEAN' and len(merged_df3[type_date3]) > 48):\n",
    "            plt.rc('font', size=30)\n",
    "            plt.xticks(merged_df3[type_date3][::10])\n",
    "        else:\n",
    "            plt.rc('font', size=30)\n",
    "            plt.xticks(merged_df3[type_date3])\n",
    "            \n",
    "        plt.ylabel('Time in Seconds')\n",
    "        plt.xticks(rotation = 75)\n",
    "        plt.grid()\n",
    "        plt.legend(loc='upper center', bbox_to_anchor=(1.5, 1.05),\n",
    "            ncol=3, fancybox=True, shadow=True)\n",
    "        plt.title('Runtime and Queue by  ' + type_date3 + ' between ' + str(starting_date3) + ' and ' + str(ending_date3))\n",
    "        plt.rcParams[\"figure.figsize\"] = (45,50)\n",
    "        plt.rc('font', size=30)\n",
    "        plt.show()\n",
    "        end_time = time.time()\n",
    "        print(\"sql execute time:%s\" % (end_time - start_time))\n",
    "    \n",
    "            \n",
    "\n",
    "def on_button_clicked3(_):\n",
    "      with out3:\n",
    "        out3.clear_output()\n",
    "        common_filtering3(dropdown_date_start3.value, dropdown_date_end3.value, dropdown_date3.value)\n",
    "\n",
    "button3.on_click(on_button_clicked3)\n"
   ]
  },
  {
   "cell_type": "markdown",
   "id": "protected-baseline",
   "metadata": {
    "id": "c67ed2c2-180e-4826-841e-9f0eb6cf4a98"
   },
   "source": [
    "# Runtime and Queue Time over Time"
   ]
  },
  {
   "cell_type": "code",
   "execution_count": 88,
   "id": "front-standing",
   "metadata": {
    "id": "05d763ec-9f17-49a4-8ba4-52ea19271427"
   },
   "outputs": [
    {
     "data": {
      "application/vnd.jupyter.widget-view+json": {
       "model_id": "9fa25648cbf74007bdd598707c7d1103",
       "version_major": 2,
       "version_minor": 0
      },
      "text/plain": [
       "Dropdown(description='Start Date:', layout=Layout(width='max-content'), options=('ALL', datetime.date(2020, 10…"
      ]
     },
     "metadata": {},
     "output_type": "display_data"
    },
    {
     "data": {
      "application/vnd.jupyter.widget-view+json": {
       "model_id": "95198343a8b54e6f8a5b14357fa42c4f",
       "version_major": 2,
       "version_minor": 0
      },
      "text/plain": [
       "Dropdown(description='End Date:', layout=Layout(width='max-content'), options=('ALL', datetime.date(2020, 10, …"
      ]
     },
     "metadata": {},
     "output_type": "display_data"
    },
    {
     "data": {
      "application/vnd.jupyter.widget-view+json": {
       "model_id": "262eca218be74648b7aae353d2a55f59",
       "version_major": 2,
       "version_minor": 0
      },
      "text/plain": [
       "Dropdown(description='Aggregation Index:', layout=Layout(width='max-content'), options=('MONTH_MEAN', 'WEEKDAY…"
      ]
     },
     "metadata": {},
     "output_type": "display_data"
    },
    {
     "data": {
      "application/vnd.jupyter.widget-view+json": {
       "model_id": "dcb8dea41c684804b26237489028a630",
       "version_major": 2,
       "version_minor": 0
      },
      "text/plain": [
       "Button(description='Click to Graph', style=ButtonStyle())"
      ]
     },
     "metadata": {},
     "output_type": "display_data"
    },
    {
     "data": {
      "application/vnd.jupyter.widget-view+json": {
       "model_id": "74fe27450f6f451aa6ab0b7143755531",
       "version_major": 2,
       "version_minor": 0
      },
      "text/plain": [
       "Output()"
      ]
     },
     "metadata": {},
     "output_type": "display_data"
    },
    {
     "data": {
      "application/vnd.jupyter.widget-view+json": {
       "model_id": "09cc3470e5e34c74bbd91b2648d90ca9",
       "version_major": 2,
       "version_minor": 0
      },
      "text/plain": [
       "Output()"
      ]
     },
     "metadata": {},
     "output_type": "display_data"
    }
   ],
   "source": [
    "display(dropdown_date_start3)\n",
    "display(dropdown_date_end3)\n",
    "display(dropdown_date3)\n",
    "display(button3)\n",
    "display(output_date3)\n",
    "display(plot_output3)\n"
   ]
  },
  {
   "cell_type": "code",
   "execution_count": 91,
   "id": "union-abraham",
   "metadata": {
    "id": "a59e7863-6e60-4d6e-b251-9237d8836919"
   },
   "outputs": [],
   "source": [
    "dropdown_date4 = widgets.Dropdown(options = ['MONTH_MEAN', 'WEEKDAY_MEAN', 'HOUR_MEAN', 'DATE_MEAN', 'DATE_AND_HOUR_MEAN', 'MONTH_AND_YEAR_MEAN', 'YEAR_MEAN', 'DAY_MEAN'], description='Aggregation Index:', layout = {'width': 'max-content'}, style={'description_width': 'initial'})\n",
    "dropdown_date_start4 = widgets.Dropdown(options = unique_sorted_values_plus_ALL(entry_df2.DATE_MEAN), description='Start Date:', layout = {'width': 'max-content'}, style={'description_width': 'initial'})\n",
    "dropdown_date_end4 = widgets.Dropdown(options = unique_sorted_values_plus_ALL(entry_df2.DATE_MEAN), description='End Date:', layout = {'width': 'max-content'}, style={'description_width': 'initial'})\n",
    "dropdown_demographic = widgets.Dropdown(options = ['Users', 'Database'], description = 'Group By: ', layout = {'width': 'max-content'}, style={'description_width': 'initial'})\n",
    "limit_slider = widgets.IntSlider(min=1, max=100, description = \"Amount of Users/Databases: \", style={'description_width': 'max-content'}, layout=widgets.Layout(width='50%'))\n",
    "button4 = widgets.Button(description='Click to Graph')\n",
    "out4 = widgets.Output()\n",
    "output_date4 = widgets.Output()\n",
    "plot_output4 = widgets.Output()\n",
    "\n",
    "\n",
    "def common_filtering4(date_start4, date_end4, type_date4, demo, limit_value):\n",
    "    output_date4.clear_output()\n",
    "    plot_output4.clear_output()\n",
    "    \n",
    "    if (date_start4 == ALL) & (date_end4 == ALL):\n",
    "        starting_date4 = entry_df2['DATE_MEAN'].min()\n",
    "        ending_date4 = entry_df2['DATE_MEAN'].max()\n",
    "    elif (date_start4 == ALL):\n",
    "        starting_date4 = entry_df2['DATE_MEAN'].min()\n",
    "        ending_date4 = date_end4\n",
    "    elif (date_end4 == ALL):\n",
    "        starting_date4 = date_start4\n",
    "        ending_date4 = entry_df2['DATE_MEAN'].max()\n",
    "    else:\n",
    "        starting_date4 = date_start4\n",
    "        ending_date4 = date_end4\n",
    "\n",
    "    nzqh_submit_start  = \"{} 00:00:00\".format(starting_date4)\n",
    "    nzqh_submit_end    = \"{} 23:59:59\".format(ending_date4)\n",
    "    nzqh_where          = \"QH_TSUBMIT >= '{}' and QH_TSUBMIT <= '{}'\".format(nzqh_submit_start,nzqh_submit_end)\n",
    "    \n",
    "    if (demo == 'Users'):\n",
    "        nzqh_demo = \"QH_USER\"\n",
    "    else:\n",
    "        nzqh_demo = \"QH_DATABASE\"\n",
    "        \n",
    "    sql_find_top_demo = \"SELECT {}, COUNT (QH_SQL) FROM {}.{} GROUP BY {} ORDER BY COUNT DESC LIMIT {}\".format(nzqh_demo, nz_schema, nzqh_table, nzqh_demo, limit_value)\n",
    "    limit_df = pd.read_sql_query(sql_find_top_demo, nzcon)\n",
    "\n",
    "    demo_list = \"(\"\n",
    "    for x in limit_df[nzqh_demo]:\n",
    "        demo_list = demo_list + \"'\" + x + \"'\" + \",\"\n",
    "\n",
    "    demo_list = demo_list[:-1]\n",
    "    demo_list = demo_list + \")\"\n",
    "\n",
    "    start_time = time.time()  \n",
    "    sql_dates = \"SELECT QH_TSUBMIT, QH_SQL, {} FROM {}.{} WHERE {} and {} in {} LIMIT 50000\".format(nzqh_demo, nz_schema, nzqh_table, nzqh_where, nzqh_demo, demo_list)\n",
    "    df4 = pd.read_sql_query(sql_dates, nzcon)\n",
    "     \n",
    "    \n",
    " \n",
    "    if (type_date4 == 'MONTH_MEAN'):\n",
    "        df4['MONTH_MEAN'] = pd.to_datetime(df4['QH_TSUBMIT']).dt.month  # AVERAGE_MONTH\n",
    "        df4['YEAR_MEAN'] = pd.to_datetime(df4['QH_TSUBMIT']).dt.year\n",
    "        \n",
    "        \n",
    "    if (type_date4 == 'WEEKDAY_MEAN'):\n",
    "        # Function to Convert Date in Format MM-DD-YYY to day of the Week\n",
    "        weekDays = (\"0 Monday\", \"1 Tuesday\", \"2 Wednesday\", \"3 Thursday\", \"4 Friday\", \"5 Saturday\", \"6 Sunday\")\n",
    "    \n",
    "        def convert_to_weekday(date):\n",
    "            dt = datetime.strptime(date, '%Y-%m-%d %H:%M:%S')\n",
    "            return weekDays[dt.weekday()]\n",
    "        \n",
    "        date_list = df4['QH_TSUBMIT'].tolist()\n",
    "        new_column = []\n",
    "        for i in date_list:\n",
    "            new_column.append(convert_to_weekday(i))\n",
    "\n",
    "        df4['WEEKDAY_MEAN'] = new_column\n",
    "        \n",
    "    if (type_date4 == 'HOUR_MEAN'):\n",
    "        df4['HOUR_MEAN'] = pd.to_datetime(df4['QH_TSUBMIT']).dt.strftime(\"%H\")\n",
    "        \n",
    "    if (type_date4 == 'DATE_MEAN'):\n",
    "        df4['DATE_MEAN'] = pd.to_datetime(df4['QH_TSUBMIT']).dt.date  # ENTRY_DATE\n",
    "       \n",
    "    if (type_date4 == 'DATE_AND_HOUR_MEAN'):\n",
    "        df4['HOUR_MEAN'] = pd.to_datetime(df4['QH_TSUBMIT']).dt.strftime(\"%H\")\n",
    "        df4['DATE_MEAN'] = pd.to_datetime(df4['QH_TSUBMIT']).dt.date  # ENTRY_DATE\n",
    "        df4['DATE_AND_HOUR_MEAN'] = df4['DATE_MEAN'].astype(str) + \"-\" + df4['HOUR_MEAN'].astype(str)  #day by hour\n",
    "        \n",
    "\n",
    "    if (type_date4 == 'MONTH_AND_YEAR_MEAN'):\n",
    "        df4['YEAR_MEAN'] = pd.to_datetime(df4['QH_TSUBMIT']).dt.year\n",
    "        df4['MONTH_MEAN'] = pd.to_datetime(df4['QH_TSUBMIT']).dt.month  # AVERAGE_MONTH\n",
    "        df4['MONTH_AND_YEAR_MEAN'] = df4['YEAR_MEAN'].astype(str) + \"-\" + df4['MONTH_MEAN'].astype(str) #YEAR_MONTH\n",
    "        \n",
    "    if (type_date4 == 'YEAR_MEAN'):\n",
    "        df4['YEAR_MEAN'] = pd.to_datetime(df4['QH_TSUBMIT']).dt.year\n",
    "        \n",
    "    if (type_date4 == 'DAY_MEAN'):\n",
    "        df4['DAY_MEAN'] = pd.to_datetime(df4['QH_TSUBMIT']).dt.strftime(\"%d\")     # ENTRY_DAY\n",
    "       \n",
    " \n",
    "    DEMO_DF = df4.groupby([nzqh_demo, type_date4]).agg({'QH_SQL': 'count'})\n",
    "    plt.rcParams.update({'font.size': 40})\n",
    "    DEMO_DF.groupby([type_date4,nzqh_demo]).sum().unstack().plot(figsize=(30,15), kind='bar',y='QH_SQL', stacked=True, colormap=\"gist_rainbow\")\n",
    "    current_handles, _ = plt.gca().get_legend_handles_labels()\n",
    "    reversed_handles = reversed(current_handles)\n",
    "    labels = reversed(DEMO_DF.index.unique())\n",
    "    plt.legend(reversed_handles,labels,loc='best')\n",
    "    \n",
    "    common_filter4 = DEMO_DF\n",
    "    \n",
    "    with output_date4:\n",
    "            display(common_filter4)\n",
    "    \n",
    "    with plot_output4:\n",
    "        plt.xlabel(type_date4)\n",
    "        plt.ylabel('QUERY COUNT by ' + demo)\n",
    "        \n",
    "        plt.xticks(rotation = 90)\n",
    "        plt.grid()\n",
    "        plt.legend(loc='best',bbox_to_anchor=(1, 1),\n",
    "            ncol=3, fancybox=True, shadow=True) #bbox_to_anchor=(1.5, 1.05)\n",
    "        plt.title('QUERY VOLUME by  ' + type_date4 + ' between ' + str(starting_date4) + ' and ' + str(ending_date4))\n",
    "        plt.show()\n",
    "        end_time = time.time()\n",
    "        print(\"sql execute time:%s\" % (end_time - start_time))\n",
    "            \n",
    "\n",
    "\n",
    "def on_button_clicked4(_):\n",
    "      with out4:\n",
    "        out4.clear_output()\n",
    "        common_filtering4(dropdown_date_start4.value, dropdown_date_end4.value, dropdown_date4.value, dropdown_demographic.value, limit_slider.value)\n",
    "\n",
    "button4.on_click(on_button_clicked4)\n",
    "\n"
   ]
  },
  {
   "cell_type": "markdown",
   "id": "preliminary-slovenia",
   "metadata": {
    "id": "911c6d9b-d186-4e4b-b29c-bb8d6f07b0e6"
   },
   "source": [
    "# User and Database Volume Over Time"
   ]
  },
  {
   "cell_type": "code",
   "execution_count": 92,
   "id": "weird-velvet",
   "metadata": {
    "id": "b7a1783c-e0bf-4497-ba18-b30d1fb2f819",
    "scrolled": false
   },
   "outputs": [
    {
     "data": {
      "application/vnd.jupyter.widget-view+json": {
       "model_id": "c9a0fc0e6fa64ac285ced2f86fb7bed6",
       "version_major": 2,
       "version_minor": 0
      },
      "text/plain": [
       "Dropdown(description='Start Date:', layout=Layout(width='max-content'), options=('ALL', datetime.date(2020, 10…"
      ]
     },
     "metadata": {},
     "output_type": "display_data"
    },
    {
     "data": {
      "application/vnd.jupyter.widget-view+json": {
       "model_id": "88fa66af2f4b47bc82fcc1f519b47feb",
       "version_major": 2,
       "version_minor": 0
      },
      "text/plain": [
       "Dropdown(description='End Date:', layout=Layout(width='max-content'), options=('ALL', datetime.date(2020, 10, …"
      ]
     },
     "metadata": {},
     "output_type": "display_data"
    },
    {
     "data": {
      "application/vnd.jupyter.widget-view+json": {
       "model_id": "3585a6afb2814c2dbf78d83cc347d703",
       "version_major": 2,
       "version_minor": 0
      },
      "text/plain": [
       "Dropdown(description='Aggregation Index:', layout=Layout(width='max-content'), options=('MONTH_MEAN', 'WEEKDAY…"
      ]
     },
     "metadata": {},
     "output_type": "display_data"
    },
    {
     "data": {
      "application/vnd.jupyter.widget-view+json": {
       "model_id": "7ae7e792e1a749759c699c755cf76e6f",
       "version_major": 2,
       "version_minor": 0
      },
      "text/plain": [
       "Dropdown(description='Group By: ', layout=Layout(width='max-content'), options=('Users', 'Database'), style=De…"
      ]
     },
     "metadata": {},
     "output_type": "display_data"
    },
    {
     "data": {
      "application/vnd.jupyter.widget-view+json": {
       "model_id": "d405213b2aae4bf2bb49cc6a8b1e005c",
       "version_major": 2,
       "version_minor": 0
      },
      "text/plain": [
       "IntSlider(value=1, description='Amount of Users/Databases: ', layout=Layout(width='50%'), min=1, style=SliderS…"
      ]
     },
     "metadata": {},
     "output_type": "display_data"
    },
    {
     "data": {
      "application/vnd.jupyter.widget-view+json": {
       "model_id": "d676a988a0144e36a7893af42fdddf66",
       "version_major": 2,
       "version_minor": 0
      },
      "text/plain": [
       "Button(description='Click to Graph', style=ButtonStyle())"
      ]
     },
     "metadata": {},
     "output_type": "display_data"
    },
    {
     "data": {
      "application/vnd.jupyter.widget-view+json": {
       "model_id": "5298691959444d7eb3331ba27d1a5eec",
       "version_major": 2,
       "version_minor": 0
      },
      "text/plain": [
       "Output()"
      ]
     },
     "metadata": {},
     "output_type": "display_data"
    }
   ],
   "source": [
    "display(dropdown_date_start4)\n",
    "display(dropdown_date_end4)\n",
    "display(dropdown_date4)\n",
    "display(dropdown_demographic)\n",
    "display(limit_slider)\n",
    "display(button4)\n",
    "#display(output_date4)\n",
    "display(plot_output4)\n"
   ]
  },
  {
   "cell_type": "code",
   "execution_count": null,
   "id": "behind-legend",
   "metadata": {
    "id": "423f6f11-e2fa-48a2-9ba4-6c7f76705a5f"
   },
   "outputs": [],
   "source": []
  },
  {
   "cell_type": "code",
   "execution_count": null,
   "id": "turned-swimming",
   "metadata": {
    "id": "ab855331-a87b-441b-96a6-86a37986bc3b"
   },
   "outputs": [],
   "source": []
  },
  {
   "cell_type": "code",
   "execution_count": null,
   "id": "every-breakfast",
   "metadata": {
    "id": "5335fba6-57fc-4fcc-af67-7348ba100aea"
   },
   "outputs": [],
   "source": []
  }
 ],
 "metadata": {
  "hide_input": false,
  "kernelspec": {
   "display_name": "Python 3",
   "language": "python",
   "name": "python3"
  },
  "language_info": {
   "codemirror_mode": {
    "name": "ipython",
    "version": 3
   },
   "file_extension": ".py",
   "mimetype": "text/x-python",
   "name": "python",
   "nbconvert_exporter": "python",
   "pygments_lexer": "ipython3",
   "version": "3.9.2"
  },
  "widgets": {
   "application/vnd.jupyter.widget-state+json": {
    "state": {
     "03bbf733a68a4da1b44c80b31cb89425": {
      "model_module": "@jupyter-widgets/controls",
      "model_module_version": "1.5.0",
      "model_name": "DescriptionStyleModel",
      "state": {
       "description_width": "initial"
      }
     },
     "04a0534689274a1ab2d94a3926f272db": {
      "model_module": "@jupyter-widgets/controls",
      "model_module_version": "1.5.0",
      "model_name": "ButtonStyleModel",
      "state": {}
     },
     "07ff4a1ceee64a898ace57c3e2075d76": {
      "model_module": "@jupyter-widgets/controls",
      "model_module_version": "1.5.0",
      "model_name": "ButtonModel",
      "state": {
       "description": "Click to Graph",
       "layout": "IPY_MODEL_599a7e5868e44c619741ce7b3ec4db0b",
       "style": "IPY_MODEL_1f90c8a93eea4d8289aea9b346c22cd0"
      }
     },
     "094b979f40534f6fa3bad16664586ae7": {
      "model_module": "@jupyter-widgets/base",
      "model_module_version": "1.2.0",
      "model_name": "LayoutModel",
      "state": {
       "width": "max-content"
      }
     },
     "0d5d1a3c47f64148b802f8e691618fa7": {
      "model_module": "@jupyter-widgets/base",
      "model_module_version": "1.2.0",
      "model_name": "LayoutModel",
      "state": {}
     },
     "0e4042e3438e4b90b30c356e10624f68": {
      "model_module": "@jupyter-widgets/controls",
      "model_module_version": "1.5.0",
      "model_name": "DescriptionStyleModel",
      "state": {
       "description_width": "initial"
      }
     },
     "1f2788960aab418a86fa2f2524423bed": {
      "model_module": "@jupyter-widgets/base",
      "model_module_version": "1.2.0",
      "model_name": "LayoutModel",
      "state": {
       "width": "max-content"
      }
     },
     "1f90c8a93eea4d8289aea9b346c22cd0": {
      "model_module": "@jupyter-widgets/controls",
      "model_module_version": "1.5.0",
      "model_name": "ButtonStyleModel",
      "state": {}
     },
     "27e5ac9beff24c4ab4154d20027802c7": {
      "model_module": "@jupyter-widgets/output",
      "model_module_version": "1.0.0",
      "model_name": "OutputModel",
      "state": {
       "layout": "IPY_MODEL_58d6c9d9b6004dd2b262f98a6ff7f4bf",
       "outputs": [
        {
         "ename": "KeyError",
         "evalue": "'ENTRY'",
         "output_type": "error",
         "traceback": [
          "\u001b[0;31m---------------------------------------------------------------------------\u001b[0m",
          "\u001b[0;31mTypeError\u001b[0m                                 Traceback (most recent call last)",
          "\u001b[0;32mpandas/_libs/index_class_helper.pxi\u001b[0m in \u001b[0;36mpandas._libs.index.Float64Engine._maybe_get_bool_indexer\u001b[0;34m()\u001b[0m\n",
          "\u001b[0;32mpandas/_libs/index_class_helper.pxi\u001b[0m in \u001b[0;36mpandas._libs.index.Float64Engine._maybe_get_bool_indexer\u001b[0;34m()\u001b[0m\n",
          "\u001b[0;31mTypeError\u001b[0m: Cannot convert bool to numpy.ndarray",
          "\nDuring handling of the above exception, another exception occurred:\n",
          "\u001b[0;31mKeyError\u001b[0m                                  Traceback (most recent call last)",
          "\u001b[0;32m/opt/conda/envs/Python-3.7-main/lib/python3.7/site-packages/pandas/core/indexes/base.py\u001b[0m in \u001b[0;36mget_loc\u001b[0;34m(self, key, method, tolerance)\u001b[0m\n\u001b[1;32m   2645\u001b[0m             \u001b[0;32mtry\u001b[0m\u001b[0;34m:\u001b[0m\u001b[0;34m\u001b[0m\u001b[0;34m\u001b[0m\u001b[0m\n\u001b[0;32m-> 2646\u001b[0;31m                 \u001b[0;32mreturn\u001b[0m \u001b[0mself\u001b[0m\u001b[0;34m.\u001b[0m\u001b[0m_engine\u001b[0m\u001b[0;34m.\u001b[0m\u001b[0mget_loc\u001b[0m\u001b[0;34m(\u001b[0m\u001b[0mkey\u001b[0m\u001b[0;34m)\u001b[0m\u001b[0;34m\u001b[0m\u001b[0;34m\u001b[0m\u001b[0m\n\u001b[0m\u001b[1;32m   2647\u001b[0m             \u001b[0;32mexcept\u001b[0m \u001b[0mKeyError\u001b[0m\u001b[0;34m:\u001b[0m\u001b[0;34m\u001b[0m\u001b[0;34m\u001b[0m\u001b[0m\n",
          "\u001b[0;32mpandas/_libs/index.pyx\u001b[0m in \u001b[0;36mpandas._libs.index.IndexEngine.get_loc\u001b[0;34m()\u001b[0m\n",
          "\u001b[0;32mpandas/_libs/index.pyx\u001b[0m in \u001b[0;36mpandas._libs.index.IndexEngine.get_loc\u001b[0;34m()\u001b[0m\n",
          "\u001b[0;32mpandas/_libs/index.pyx\u001b[0m in \u001b[0;36mpandas._libs.index.IndexEngine._get_loc_duplicates\u001b[0;34m()\u001b[0m\n",
          "\u001b[0;32mpandas/_libs/index_class_helper.pxi\u001b[0m in \u001b[0;36mpandas._libs.index.Float64Engine._maybe_get_bool_indexer\u001b[0;34m()\u001b[0m\n",
          "\u001b[0;31mKeyError\u001b[0m: 'ENTRY'",
          "\nDuring handling of the above exception, another exception occurred:\n",
          "\u001b[0;31mTypeError\u001b[0m                                 Traceback (most recent call last)",
          "\u001b[0;32mpandas/_libs/index_class_helper.pxi\u001b[0m in \u001b[0;36mpandas._libs.index.Float64Engine._maybe_get_bool_indexer\u001b[0;34m()\u001b[0m\n",
          "\u001b[0;32mpandas/_libs/index_class_helper.pxi\u001b[0m in \u001b[0;36mpandas._libs.index.Float64Engine._maybe_get_bool_indexer\u001b[0;34m()\u001b[0m\n",
          "\u001b[0;31mTypeError\u001b[0m: Cannot convert bool to numpy.ndarray",
          "\nDuring handling of the above exception, another exception occurred:\n",
          "\u001b[0;31mKeyError\u001b[0m                                  Traceback (most recent call last)",
          "\u001b[0;32m<ipython-input-16-a8613dc0f4ff>\u001b[0m in \u001b[0;36mon_button_clicked\u001b[0;34m(_)\u001b[0m\n\u001b[1;32m    120\u001b[0m       \u001b[0;32mwith\u001b[0m \u001b[0mout\u001b[0m\u001b[0;34m:\u001b[0m\u001b[0;34m\u001b[0m\u001b[0;34m\u001b[0m\u001b[0m\n\u001b[1;32m    121\u001b[0m         \u001b[0mout\u001b[0m\u001b[0;34m.\u001b[0m\u001b[0mclear_output\u001b[0m\u001b[0;34m(\u001b[0m\u001b[0;34m)\u001b[0m\u001b[0;34m\u001b[0m\u001b[0;34m\u001b[0m\u001b[0m\n\u001b[0;32m--> 122\u001b[0;31m         \u001b[0mcommon_filtering\u001b[0m\u001b[0;34m(\u001b[0m\u001b[0mdropdown_date_start\u001b[0m\u001b[0;34m.\u001b[0m\u001b[0mvalue\u001b[0m\u001b[0;34m,\u001b[0m \u001b[0mdropdown_date_end\u001b[0m\u001b[0;34m.\u001b[0m\u001b[0mvalue\u001b[0m\u001b[0;34m,\u001b[0m \u001b[0mdropdown_date\u001b[0m\u001b[0;34m.\u001b[0m\u001b[0mvalue\u001b[0m\u001b[0;34m)\u001b[0m\u001b[0;34m\u001b[0m\u001b[0;34m\u001b[0m\u001b[0m\n\u001b[0m\u001b[1;32m    123\u001b[0m \u001b[0;34m\u001b[0m\u001b[0m\n\u001b[1;32m    124\u001b[0m \u001b[0mbutton\u001b[0m\u001b[0;34m.\u001b[0m\u001b[0mon_click\u001b[0m\u001b[0;34m(\u001b[0m\u001b[0mon_button_clicked\u001b[0m\u001b[0;34m)\u001b[0m\u001b[0;34m\u001b[0m\u001b[0;34m\u001b[0m\u001b[0m\n",
          "\u001b[0;32m<ipython-input-16-a8613dc0f4ff>\u001b[0m in \u001b[0;36mcommon_filtering\u001b[0;34m(date_start, date_end, type_date)\u001b[0m\n\u001b[1;32m     34\u001b[0m \u001b[0;34m\u001b[0m\u001b[0m\n\u001b[1;32m     35\u001b[0m     \u001b[0;32mif\u001b[0m \u001b[0;34m(\u001b[0m\u001b[0mtype_date\u001b[0m \u001b[0;34m==\u001b[0m \u001b[0;34m'MONTH_MEAN'\u001b[0m\u001b[0;34m)\u001b[0m\u001b[0;34m:\u001b[0m\u001b[0;34m\u001b[0m\u001b[0;34m\u001b[0m\u001b[0m\n\u001b[0;32m---> 36\u001b[0;31m         \u001b[0mdf1\u001b[0m\u001b[0;34m[\u001b[0m\u001b[0;34m'MONTH_MEAN'\u001b[0m\u001b[0;34m]\u001b[0m \u001b[0;34m=\u001b[0m \u001b[0mpd\u001b[0m\u001b[0;34m.\u001b[0m\u001b[0mto_datetime\u001b[0m\u001b[0;34m(\u001b[0m\u001b[0mdf1\u001b[0m\u001b[0;34m[\u001b[0m\u001b[0;34m'ENTRY'\u001b[0m\u001b[0;34m]\u001b[0m\u001b[0;34m)\u001b[0m\u001b[0;34m.\u001b[0m\u001b[0mdt\u001b[0m\u001b[0;34m.\u001b[0m\u001b[0mmonth\u001b[0m  \u001b[0;31m# AVERAGE_MONTH\u001b[0m\u001b[0;34m\u001b[0m\u001b[0;34m\u001b[0m\u001b[0m\n\u001b[0m\u001b[1;32m     37\u001b[0m \u001b[0;34m\u001b[0m\u001b[0m\n\u001b[1;32m     38\u001b[0m     \u001b[0;32mif\u001b[0m \u001b[0;34m(\u001b[0m\u001b[0mtype_date\u001b[0m \u001b[0;34m==\u001b[0m \u001b[0;34m'WEEKDAY_MEAN'\u001b[0m\u001b[0;34m)\u001b[0m\u001b[0;34m:\u001b[0m\u001b[0;34m\u001b[0m\u001b[0;34m\u001b[0m\u001b[0m\n",
          "\u001b[0;32m/opt/conda/envs/Python-3.7-main/lib/python3.7/site-packages/pandas/core/frame.py\u001b[0m in \u001b[0;36m__getitem__\u001b[0;34m(self, key)\u001b[0m\n\u001b[1;32m   2798\u001b[0m             \u001b[0;32mif\u001b[0m \u001b[0mself\u001b[0m\u001b[0;34m.\u001b[0m\u001b[0mcolumns\u001b[0m\u001b[0;34m.\u001b[0m\u001b[0mnlevels\u001b[0m \u001b[0;34m>\u001b[0m \u001b[0;36m1\u001b[0m\u001b[0;34m:\u001b[0m\u001b[0;34m\u001b[0m\u001b[0;34m\u001b[0m\u001b[0m\n\u001b[1;32m   2799\u001b[0m                 \u001b[0;32mreturn\u001b[0m \u001b[0mself\u001b[0m\u001b[0;34m.\u001b[0m\u001b[0m_getitem_multilevel\u001b[0m\u001b[0;34m(\u001b[0m\u001b[0mkey\u001b[0m\u001b[0;34m)\u001b[0m\u001b[0;34m\u001b[0m\u001b[0;34m\u001b[0m\u001b[0m\n\u001b[0;32m-> 2800\u001b[0;31m             \u001b[0mindexer\u001b[0m \u001b[0;34m=\u001b[0m \u001b[0mself\u001b[0m\u001b[0;34m.\u001b[0m\u001b[0mcolumns\u001b[0m\u001b[0;34m.\u001b[0m\u001b[0mget_loc\u001b[0m\u001b[0;34m(\u001b[0m\u001b[0mkey\u001b[0m\u001b[0;34m)\u001b[0m\u001b[0;34m\u001b[0m\u001b[0;34m\u001b[0m\u001b[0m\n\u001b[0m\u001b[1;32m   2801\u001b[0m             \u001b[0;32mif\u001b[0m \u001b[0mis_integer\u001b[0m\u001b[0;34m(\u001b[0m\u001b[0mindexer\u001b[0m\u001b[0;34m)\u001b[0m\u001b[0;34m:\u001b[0m\u001b[0;34m\u001b[0m\u001b[0;34m\u001b[0m\u001b[0m\n\u001b[1;32m   2802\u001b[0m                 \u001b[0mindexer\u001b[0m \u001b[0;34m=\u001b[0m \u001b[0;34m[\u001b[0m\u001b[0mindexer\u001b[0m\u001b[0;34m]\u001b[0m\u001b[0;34m\u001b[0m\u001b[0;34m\u001b[0m\u001b[0m\n",
          "\u001b[0;32m/opt/conda/envs/Python-3.7-main/lib/python3.7/site-packages/pandas/core/indexes/numeric.py\u001b[0m in \u001b[0;36mget_loc\u001b[0;34m(self, key, method, tolerance)\u001b[0m\n\u001b[1;32m    506\u001b[0m         \u001b[0;32mexcept\u001b[0m \u001b[0;34m(\u001b[0m\u001b[0mTypeError\u001b[0m\u001b[0;34m,\u001b[0m \u001b[0mNotImplementedError\u001b[0m\u001b[0;34m)\u001b[0m\u001b[0;34m:\u001b[0m\u001b[0;34m\u001b[0m\u001b[0;34m\u001b[0m\u001b[0m\n\u001b[1;32m    507\u001b[0m             \u001b[0;32mpass\u001b[0m\u001b[0;34m\u001b[0m\u001b[0;34m\u001b[0m\u001b[0m\n\u001b[0;32m--> 508\u001b[0;31m         \u001b[0;32mreturn\u001b[0m \u001b[0msuper\u001b[0m\u001b[0;34m(\u001b[0m\u001b[0;34m)\u001b[0m\u001b[0;34m.\u001b[0m\u001b[0mget_loc\u001b[0m\u001b[0;34m(\u001b[0m\u001b[0mkey\u001b[0m\u001b[0;34m,\u001b[0m \u001b[0mmethod\u001b[0m\u001b[0;34m=\u001b[0m\u001b[0mmethod\u001b[0m\u001b[0;34m,\u001b[0m \u001b[0mtolerance\u001b[0m\u001b[0;34m=\u001b[0m\u001b[0mtolerance\u001b[0m\u001b[0;34m)\u001b[0m\u001b[0;34m\u001b[0m\u001b[0;34m\u001b[0m\u001b[0m\n\u001b[0m\u001b[1;32m    509\u001b[0m \u001b[0;34m\u001b[0m\u001b[0m\n\u001b[1;32m    510\u001b[0m     \u001b[0;34m@\u001b[0m\u001b[0mcache_readonly\u001b[0m\u001b[0;34m\u001b[0m\u001b[0;34m\u001b[0m\u001b[0m\n",
          "\u001b[0;32m/opt/conda/envs/Python-3.7-main/lib/python3.7/site-packages/pandas/core/indexes/base.py\u001b[0m in \u001b[0;36mget_loc\u001b[0;34m(self, key, method, tolerance)\u001b[0m\n\u001b[1;32m   2646\u001b[0m                 \u001b[0;32mreturn\u001b[0m \u001b[0mself\u001b[0m\u001b[0;34m.\u001b[0m\u001b[0m_engine\u001b[0m\u001b[0;34m.\u001b[0m\u001b[0mget_loc\u001b[0m\u001b[0;34m(\u001b[0m\u001b[0mkey\u001b[0m\u001b[0;34m)\u001b[0m\u001b[0;34m\u001b[0m\u001b[0;34m\u001b[0m\u001b[0m\n\u001b[1;32m   2647\u001b[0m             \u001b[0;32mexcept\u001b[0m \u001b[0mKeyError\u001b[0m\u001b[0;34m:\u001b[0m\u001b[0;34m\u001b[0m\u001b[0;34m\u001b[0m\u001b[0m\n\u001b[0;32m-> 2648\u001b[0;31m                 \u001b[0;32mreturn\u001b[0m \u001b[0mself\u001b[0m\u001b[0;34m.\u001b[0m\u001b[0m_engine\u001b[0m\u001b[0;34m.\u001b[0m\u001b[0mget_loc\u001b[0m\u001b[0;34m(\u001b[0m\u001b[0mself\u001b[0m\u001b[0;34m.\u001b[0m\u001b[0m_maybe_cast_indexer\u001b[0m\u001b[0;34m(\u001b[0m\u001b[0mkey\u001b[0m\u001b[0;34m)\u001b[0m\u001b[0;34m)\u001b[0m\u001b[0;34m\u001b[0m\u001b[0;34m\u001b[0m\u001b[0m\n\u001b[0m\u001b[1;32m   2649\u001b[0m         \u001b[0mindexer\u001b[0m \u001b[0;34m=\u001b[0m \u001b[0mself\u001b[0m\u001b[0;34m.\u001b[0m\u001b[0mget_indexer\u001b[0m\u001b[0;34m(\u001b[0m\u001b[0;34m[\u001b[0m\u001b[0mkey\u001b[0m\u001b[0;34m]\u001b[0m\u001b[0;34m,\u001b[0m \u001b[0mmethod\u001b[0m\u001b[0;34m=\u001b[0m\u001b[0mmethod\u001b[0m\u001b[0;34m,\u001b[0m \u001b[0mtolerance\u001b[0m\u001b[0;34m=\u001b[0m\u001b[0mtolerance\u001b[0m\u001b[0;34m)\u001b[0m\u001b[0;34m\u001b[0m\u001b[0;34m\u001b[0m\u001b[0m\n\u001b[1;32m   2650\u001b[0m         \u001b[0;32mif\u001b[0m \u001b[0mindexer\u001b[0m\u001b[0;34m.\u001b[0m\u001b[0mndim\u001b[0m \u001b[0;34m>\u001b[0m \u001b[0;36m1\u001b[0m \u001b[0;32mor\u001b[0m \u001b[0mindexer\u001b[0m\u001b[0;34m.\u001b[0m\u001b[0msize\u001b[0m \u001b[0;34m>\u001b[0m \u001b[0;36m1\u001b[0m\u001b[0;34m:\u001b[0m\u001b[0;34m\u001b[0m\u001b[0;34m\u001b[0m\u001b[0m\n",
          "\u001b[0;32mpandas/_libs/index.pyx\u001b[0m in \u001b[0;36mpandas._libs.index.IndexEngine.get_loc\u001b[0;34m()\u001b[0m\n",
          "\u001b[0;32mpandas/_libs/index.pyx\u001b[0m in \u001b[0;36mpandas._libs.index.IndexEngine.get_loc\u001b[0;34m()\u001b[0m\n",
          "\u001b[0;32mpandas/_libs/index.pyx\u001b[0m in \u001b[0;36mpandas._libs.index.IndexEngine._get_loc_duplicates\u001b[0;34m()\u001b[0m\n",
          "\u001b[0;32mpandas/_libs/index_class_helper.pxi\u001b[0m in \u001b[0;36mpandas._libs.index.Float64Engine._maybe_get_bool_indexer\u001b[0;34m()\u001b[0m\n",
          "\u001b[0;31mKeyError\u001b[0m: 'ENTRY'"
         ]
        }
       ]
      }
     },
     "2cdcf651330847689ec168b4c633c4a2": {
      "model_module": "@jupyter-widgets/output",
      "model_module_version": "1.0.0",
      "model_name": "OutputModel",
      "state": {
       "layout": "IPY_MODEL_c17e74edea714d0cb882e7da829f3b4f"
      }
     },
     "30657f069edf4a748b71f0035856aa40": {
      "model_module": "@jupyter-widgets/controls",
      "model_module_version": "1.5.0",
      "model_name": "ButtonStyleModel",
      "state": {}
     },
     "311cc6519c7f439ca014060933966e56": {
      "model_module": "@jupyter-widgets/output",
      "model_module_version": "1.0.0",
      "model_name": "OutputModel",
      "state": {
       "layout": "IPY_MODEL_f276df7e7bfe4215b91c0be6c6ab59cb"
      }
     },
     "42d913e7055c4570a864d8adcfe6fcf1": {
      "model_module": "@jupyter-widgets/base",
      "model_module_version": "1.2.0",
      "model_name": "LayoutModel",
      "state": {
       "width": "max-content"
      }
     },
     "48f660592fe04402b341fd58ff2f17f9": {
      "model_module": "@jupyter-widgets/output",
      "model_module_version": "1.0.0",
      "model_name": "OutputModel",
      "state": {
       "layout": "IPY_MODEL_af86c1ce70764521bd55836c19eb21b7"
      }
     },
     "49d1d96560e94ee9a40f02acaae25f62": {
      "model_module": "@jupyter-widgets/base",
      "model_module_version": "1.2.0",
      "model_name": "LayoutModel",
      "state": {
       "width": "max-content"
      }
     },
     "49fcedbc4e5a4b6297d99860d558bbe8": {
      "model_module": "@jupyter-widgets/base",
      "model_module_version": "1.2.0",
      "model_name": "LayoutModel",
      "state": {
       "width": "max-content"
      }
     },
     "4a736392ea3e4151a3d02e4c64253409": {
      "model_module": "@jupyter-widgets/base",
      "model_module_version": "1.2.0",
      "model_name": "LayoutModel",
      "state": {}
     },
     "54d751a755ba40f19c20cdcad28d253d": {
      "model_module": "@jupyter-widgets/base",
      "model_module_version": "1.2.0",
      "model_name": "LayoutModel",
      "state": {}
     },
     "55959c002e084dec81280c65f68ac19d": {
      "model_module": "@jupyter-widgets/base",
      "model_module_version": "1.2.0",
      "model_name": "LayoutModel",
      "state": {
       "width": "max-content"
      }
     },
     "58d6c9d9b6004dd2b262f98a6ff7f4bf": {
      "model_module": "@jupyter-widgets/base",
      "model_module_version": "1.2.0",
      "model_name": "LayoutModel",
      "state": {}
     },
     "599a7e5868e44c619741ce7b3ec4db0b": {
      "model_module": "@jupyter-widgets/base",
      "model_module_version": "1.2.0",
      "model_name": "LayoutModel",
      "state": {}
     },
     "5c2d98dc49474f719f72615ddf29ef00": {
      "model_module": "@jupyter-widgets/controls",
      "model_module_version": "1.5.0",
      "model_name": "DescriptionStyleModel",
      "state": {
       "description_width": "initial"
      }
     },
     "62517bd8faf449279b13bc83882a0569": {
      "model_module": "@jupyter-widgets/base",
      "model_module_version": "1.2.0",
      "model_name": "LayoutModel",
      "state": {
       "width": "max-content"
      }
     },
     "672dfe37e7824da9a0d32435bb29f531": {
      "model_module": "@jupyter-widgets/controls",
      "model_module_version": "1.5.0",
      "model_name": "DropdownModel",
      "state": {
       "_options_labels": [
        "ALL",
        "2020-10-07",
        "2020-10-08",
        "2020-10-09",
        "2020-10-10",
        "2020-10-11",
        "2020-10-12",
        "2020-10-13",
        "2020-10-14",
        "2020-10-15",
        "2020-10-16",
        "2020-10-17",
        "2020-10-18",
        "2020-10-19",
        "2020-10-20",
        "2020-10-21",
        "2020-10-22",
        "2020-10-23",
        "2020-10-24",
        "2020-10-25",
        "2020-10-26",
        "2020-10-27"
       ],
       "description": "End Date:",
       "index": 0,
       "layout": "IPY_MODEL_62517bd8faf449279b13bc83882a0569",
       "style": "IPY_MODEL_a9509f051c1248268e8cafbca614002c"
      }
     },
     "6af1ace76f9c4b4a9891a64d86a2737a": {
      "model_module": "@jupyter-widgets/base",
      "model_module_version": "1.2.0",
      "model_name": "LayoutModel",
      "state": {}
     },
     "757716e8fab348489d759e6cab0464f4": {
      "model_module": "@jupyter-widgets/controls",
      "model_module_version": "1.5.0",
      "model_name": "DropdownModel",
      "state": {
       "_options_labels": [
        "MONTH_MEAN",
        "WEEKDAY_MEAN",
        "HOUR_MEAN",
        "DATE_MEAN",
        "DATE_AND_HOUR_MEAN",
        "MONTH_AND_YEAR_MEAN",
        "YEAR_MEAN",
        "DAY_MEAN"
       ],
       "description": "Aggregation Index:",
       "index": 0,
       "layout": "IPY_MODEL_49fcedbc4e5a4b6297d99860d558bbe8",
       "style": "IPY_MODEL_0e4042e3438e4b90b30c356e10624f68"
      }
     },
     "773d6a328774465292b91091ecc58723": {
      "model_module": "@jupyter-widgets/controls",
      "model_module_version": "1.5.0",
      "model_name": "DropdownModel",
      "state": {
       "_options_labels": [
        "ALL",
        "2020-10-07",
        "2020-10-08",
        "2020-10-09",
        "2020-10-10",
        "2020-10-11",
        "2020-10-12",
        "2020-10-13",
        "2020-10-14",
        "2020-10-15",
        "2020-10-16",
        "2020-10-17",
        "2020-10-18",
        "2020-10-19",
        "2020-10-20",
        "2020-10-21",
        "2020-10-22",
        "2020-10-23",
        "2020-10-24",
        "2020-10-25",
        "2020-10-26",
        "2020-10-27"
       ],
       "description": "End Date:",
       "index": 0,
       "layout": "IPY_MODEL_094b979f40534f6fa3bad16664586ae7",
       "style": "IPY_MODEL_d02a09d7a5c44a00aa93d7bf29043116"
      }
     },
     "7a2cff9371be4a069d0b684e301dd18c": {
      "model_module": "@jupyter-widgets/output",
      "model_module_version": "1.0.0",
      "model_name": "OutputModel",
      "state": {
       "layout": "IPY_MODEL_54d751a755ba40f19c20cdcad28d253d"
      }
     },
     "7b8aaee0edc44c119e4fd498152a1769": {
      "model_module": "@jupyter-widgets/output",
      "model_module_version": "1.0.0",
      "model_name": "OutputModel",
      "state": {
       "layout": "IPY_MODEL_0d5d1a3c47f64148b802f8e691618fa7"
      }
     },
     "7d5e1933057a410f9389bca74adfcfea": {
      "model_module": "@jupyter-widgets/output",
      "model_module_version": "1.0.0",
      "model_name": "OutputModel",
      "state": {
       "layout": "IPY_MODEL_6af1ace76f9c4b4a9891a64d86a2737a",
       "outputs": [
        {
         "ename": "KeyError",
         "evalue": "'ENTRY'",
         "output_type": "error",
         "traceback": [
          "\u001b[0;31m---------------------------------------------------------------------------\u001b[0m",
          "\u001b[0;31mTypeError\u001b[0m                                 Traceback (most recent call last)",
          "\u001b[0;32mpandas/_libs/index_class_helper.pxi\u001b[0m in \u001b[0;36mpandas._libs.index.Float64Engine._maybe_get_bool_indexer\u001b[0;34m()\u001b[0m\n",
          "\u001b[0;32mpandas/_libs/index_class_helper.pxi\u001b[0m in \u001b[0;36mpandas._libs.index.Float64Engine._maybe_get_bool_indexer\u001b[0;34m()\u001b[0m\n",
          "\u001b[0;31mTypeError\u001b[0m: Cannot convert bool to numpy.ndarray",
          "\nDuring handling of the above exception, another exception occurred:\n",
          "\u001b[0;31mKeyError\u001b[0m                                  Traceback (most recent call last)",
          "\u001b[0;32m/opt/conda/envs/Python-3.7-main/lib/python3.7/site-packages/pandas/core/indexes/base.py\u001b[0m in \u001b[0;36mget_loc\u001b[0;34m(self, key, method, tolerance)\u001b[0m\n\u001b[1;32m   2645\u001b[0m             \u001b[0;32mtry\u001b[0m\u001b[0;34m:\u001b[0m\u001b[0;34m\u001b[0m\u001b[0;34m\u001b[0m\u001b[0m\n\u001b[0;32m-> 2646\u001b[0;31m                 \u001b[0;32mreturn\u001b[0m \u001b[0mself\u001b[0m\u001b[0;34m.\u001b[0m\u001b[0m_engine\u001b[0m\u001b[0;34m.\u001b[0m\u001b[0mget_loc\u001b[0m\u001b[0;34m(\u001b[0m\u001b[0mkey\u001b[0m\u001b[0;34m)\u001b[0m\u001b[0;34m\u001b[0m\u001b[0;34m\u001b[0m\u001b[0m\n\u001b[0m\u001b[1;32m   2647\u001b[0m             \u001b[0;32mexcept\u001b[0m \u001b[0mKeyError\u001b[0m\u001b[0;34m:\u001b[0m\u001b[0;34m\u001b[0m\u001b[0;34m\u001b[0m\u001b[0m\n",
          "\u001b[0;32mpandas/_libs/index.pyx\u001b[0m in \u001b[0;36mpandas._libs.index.IndexEngine.get_loc\u001b[0;34m()\u001b[0m\n",
          "\u001b[0;32mpandas/_libs/index.pyx\u001b[0m in \u001b[0;36mpandas._libs.index.IndexEngine.get_loc\u001b[0;34m()\u001b[0m\n",
          "\u001b[0;32mpandas/_libs/index.pyx\u001b[0m in \u001b[0;36mpandas._libs.index.IndexEngine._get_loc_duplicates\u001b[0;34m()\u001b[0m\n",
          "\u001b[0;32mpandas/_libs/index_class_helper.pxi\u001b[0m in \u001b[0;36mpandas._libs.index.Float64Engine._maybe_get_bool_indexer\u001b[0;34m()\u001b[0m\n",
          "\u001b[0;31mKeyError\u001b[0m: 'ENTRY'",
          "\nDuring handling of the above exception, another exception occurred:\n",
          "\u001b[0;31mTypeError\u001b[0m                                 Traceback (most recent call last)",
          "\u001b[0;32mpandas/_libs/index_class_helper.pxi\u001b[0m in \u001b[0;36mpandas._libs.index.Float64Engine._maybe_get_bool_indexer\u001b[0;34m()\u001b[0m\n",
          "\u001b[0;32mpandas/_libs/index_class_helper.pxi\u001b[0m in \u001b[0;36mpandas._libs.index.Float64Engine._maybe_get_bool_indexer\u001b[0;34m()\u001b[0m\n",
          "\u001b[0;31mTypeError\u001b[0m: Cannot convert bool to numpy.ndarray",
          "\nDuring handling of the above exception, another exception occurred:\n",
          "\u001b[0;31mKeyError\u001b[0m                                  Traceback (most recent call last)",
          "\u001b[0;32m<ipython-input-32-a8613dc0f4ff>\u001b[0m in \u001b[0;36mon_button_clicked\u001b[0;34m(_)\u001b[0m\n\u001b[1;32m    120\u001b[0m       \u001b[0;32mwith\u001b[0m \u001b[0mout\u001b[0m\u001b[0;34m:\u001b[0m\u001b[0;34m\u001b[0m\u001b[0;34m\u001b[0m\u001b[0m\n\u001b[1;32m    121\u001b[0m         \u001b[0mout\u001b[0m\u001b[0;34m.\u001b[0m\u001b[0mclear_output\u001b[0m\u001b[0;34m(\u001b[0m\u001b[0;34m)\u001b[0m\u001b[0;34m\u001b[0m\u001b[0;34m\u001b[0m\u001b[0m\n\u001b[0;32m--> 122\u001b[0;31m         \u001b[0mcommon_filtering\u001b[0m\u001b[0;34m(\u001b[0m\u001b[0mdropdown_date_start\u001b[0m\u001b[0;34m.\u001b[0m\u001b[0mvalue\u001b[0m\u001b[0;34m,\u001b[0m \u001b[0mdropdown_date_end\u001b[0m\u001b[0;34m.\u001b[0m\u001b[0mvalue\u001b[0m\u001b[0;34m,\u001b[0m \u001b[0mdropdown_date\u001b[0m\u001b[0;34m.\u001b[0m\u001b[0mvalue\u001b[0m\u001b[0;34m)\u001b[0m\u001b[0;34m\u001b[0m\u001b[0;34m\u001b[0m\u001b[0m\n\u001b[0m\u001b[1;32m    123\u001b[0m \u001b[0;34m\u001b[0m\u001b[0m\n\u001b[1;32m    124\u001b[0m \u001b[0mbutton\u001b[0m\u001b[0;34m.\u001b[0m\u001b[0mon_click\u001b[0m\u001b[0;34m(\u001b[0m\u001b[0mon_button_clicked\u001b[0m\u001b[0;34m)\u001b[0m\u001b[0;34m\u001b[0m\u001b[0;34m\u001b[0m\u001b[0m\n",
          "\u001b[0;32m<ipython-input-32-a8613dc0f4ff>\u001b[0m in \u001b[0;36mcommon_filtering\u001b[0;34m(date_start, date_end, type_date)\u001b[0m\n\u001b[1;32m     34\u001b[0m \u001b[0;34m\u001b[0m\u001b[0m\n\u001b[1;32m     35\u001b[0m     \u001b[0;32mif\u001b[0m \u001b[0;34m(\u001b[0m\u001b[0mtype_date\u001b[0m \u001b[0;34m==\u001b[0m \u001b[0;34m'MONTH_MEAN'\u001b[0m\u001b[0;34m)\u001b[0m\u001b[0;34m:\u001b[0m\u001b[0;34m\u001b[0m\u001b[0;34m\u001b[0m\u001b[0m\n\u001b[0;32m---> 36\u001b[0;31m         \u001b[0mdf1\u001b[0m\u001b[0;34m[\u001b[0m\u001b[0;34m'MONTH_MEAN'\u001b[0m\u001b[0;34m]\u001b[0m \u001b[0;34m=\u001b[0m \u001b[0mpd\u001b[0m\u001b[0;34m.\u001b[0m\u001b[0mto_datetime\u001b[0m\u001b[0;34m(\u001b[0m\u001b[0mdf1\u001b[0m\u001b[0;34m[\u001b[0m\u001b[0;34m'ENTRY'\u001b[0m\u001b[0;34m]\u001b[0m\u001b[0;34m)\u001b[0m\u001b[0;34m.\u001b[0m\u001b[0mdt\u001b[0m\u001b[0;34m.\u001b[0m\u001b[0mmonth\u001b[0m  \u001b[0;31m# AVERAGE_MONTH\u001b[0m\u001b[0;34m\u001b[0m\u001b[0;34m\u001b[0m\u001b[0m\n\u001b[0m\u001b[1;32m     37\u001b[0m \u001b[0;34m\u001b[0m\u001b[0m\n\u001b[1;32m     38\u001b[0m     \u001b[0;32mif\u001b[0m \u001b[0;34m(\u001b[0m\u001b[0mtype_date\u001b[0m \u001b[0;34m==\u001b[0m \u001b[0;34m'WEEKDAY_MEAN'\u001b[0m\u001b[0;34m)\u001b[0m\u001b[0;34m:\u001b[0m\u001b[0;34m\u001b[0m\u001b[0;34m\u001b[0m\u001b[0m\n",
          "\u001b[0;32m/opt/conda/envs/Python-3.7-main/lib/python3.7/site-packages/pandas/core/frame.py\u001b[0m in \u001b[0;36m__getitem__\u001b[0;34m(self, key)\u001b[0m\n\u001b[1;32m   2798\u001b[0m             \u001b[0;32mif\u001b[0m \u001b[0mself\u001b[0m\u001b[0;34m.\u001b[0m\u001b[0mcolumns\u001b[0m\u001b[0;34m.\u001b[0m\u001b[0mnlevels\u001b[0m \u001b[0;34m>\u001b[0m \u001b[0;36m1\u001b[0m\u001b[0;34m:\u001b[0m\u001b[0;34m\u001b[0m\u001b[0;34m\u001b[0m\u001b[0m\n\u001b[1;32m   2799\u001b[0m                 \u001b[0;32mreturn\u001b[0m \u001b[0mself\u001b[0m\u001b[0;34m.\u001b[0m\u001b[0m_getitem_multilevel\u001b[0m\u001b[0;34m(\u001b[0m\u001b[0mkey\u001b[0m\u001b[0;34m)\u001b[0m\u001b[0;34m\u001b[0m\u001b[0;34m\u001b[0m\u001b[0m\n\u001b[0;32m-> 2800\u001b[0;31m             \u001b[0mindexer\u001b[0m \u001b[0;34m=\u001b[0m \u001b[0mself\u001b[0m\u001b[0;34m.\u001b[0m\u001b[0mcolumns\u001b[0m\u001b[0;34m.\u001b[0m\u001b[0mget_loc\u001b[0m\u001b[0;34m(\u001b[0m\u001b[0mkey\u001b[0m\u001b[0;34m)\u001b[0m\u001b[0;34m\u001b[0m\u001b[0;34m\u001b[0m\u001b[0m\n\u001b[0m\u001b[1;32m   2801\u001b[0m             \u001b[0;32mif\u001b[0m \u001b[0mis_integer\u001b[0m\u001b[0;34m(\u001b[0m\u001b[0mindexer\u001b[0m\u001b[0;34m)\u001b[0m\u001b[0;34m:\u001b[0m\u001b[0;34m\u001b[0m\u001b[0;34m\u001b[0m\u001b[0m\n\u001b[1;32m   2802\u001b[0m                 \u001b[0mindexer\u001b[0m \u001b[0;34m=\u001b[0m \u001b[0;34m[\u001b[0m\u001b[0mindexer\u001b[0m\u001b[0;34m]\u001b[0m\u001b[0;34m\u001b[0m\u001b[0;34m\u001b[0m\u001b[0m\n",
          "\u001b[0;32m/opt/conda/envs/Python-3.7-main/lib/python3.7/site-packages/pandas/core/indexes/numeric.py\u001b[0m in \u001b[0;36mget_loc\u001b[0;34m(self, key, method, tolerance)\u001b[0m\n\u001b[1;32m    506\u001b[0m         \u001b[0;32mexcept\u001b[0m \u001b[0;34m(\u001b[0m\u001b[0mTypeError\u001b[0m\u001b[0;34m,\u001b[0m \u001b[0mNotImplementedError\u001b[0m\u001b[0;34m)\u001b[0m\u001b[0;34m:\u001b[0m\u001b[0;34m\u001b[0m\u001b[0;34m\u001b[0m\u001b[0m\n\u001b[1;32m    507\u001b[0m             \u001b[0;32mpass\u001b[0m\u001b[0;34m\u001b[0m\u001b[0;34m\u001b[0m\u001b[0m\n\u001b[0;32m--> 508\u001b[0;31m         \u001b[0;32mreturn\u001b[0m \u001b[0msuper\u001b[0m\u001b[0;34m(\u001b[0m\u001b[0;34m)\u001b[0m\u001b[0;34m.\u001b[0m\u001b[0mget_loc\u001b[0m\u001b[0;34m(\u001b[0m\u001b[0mkey\u001b[0m\u001b[0;34m,\u001b[0m \u001b[0mmethod\u001b[0m\u001b[0;34m=\u001b[0m\u001b[0mmethod\u001b[0m\u001b[0;34m,\u001b[0m \u001b[0mtolerance\u001b[0m\u001b[0;34m=\u001b[0m\u001b[0mtolerance\u001b[0m\u001b[0;34m)\u001b[0m\u001b[0;34m\u001b[0m\u001b[0;34m\u001b[0m\u001b[0m\n\u001b[0m\u001b[1;32m    509\u001b[0m \u001b[0;34m\u001b[0m\u001b[0m\n\u001b[1;32m    510\u001b[0m     \u001b[0;34m@\u001b[0m\u001b[0mcache_readonly\u001b[0m\u001b[0;34m\u001b[0m\u001b[0;34m\u001b[0m\u001b[0m\n",
          "\u001b[0;32m/opt/conda/envs/Python-3.7-main/lib/python3.7/site-packages/pandas/core/indexes/base.py\u001b[0m in \u001b[0;36mget_loc\u001b[0;34m(self, key, method, tolerance)\u001b[0m\n\u001b[1;32m   2646\u001b[0m                 \u001b[0;32mreturn\u001b[0m \u001b[0mself\u001b[0m\u001b[0;34m.\u001b[0m\u001b[0m_engine\u001b[0m\u001b[0;34m.\u001b[0m\u001b[0mget_loc\u001b[0m\u001b[0;34m(\u001b[0m\u001b[0mkey\u001b[0m\u001b[0;34m)\u001b[0m\u001b[0;34m\u001b[0m\u001b[0;34m\u001b[0m\u001b[0m\n\u001b[1;32m   2647\u001b[0m             \u001b[0;32mexcept\u001b[0m \u001b[0mKeyError\u001b[0m\u001b[0;34m:\u001b[0m\u001b[0;34m\u001b[0m\u001b[0;34m\u001b[0m\u001b[0m\n\u001b[0;32m-> 2648\u001b[0;31m                 \u001b[0;32mreturn\u001b[0m \u001b[0mself\u001b[0m\u001b[0;34m.\u001b[0m\u001b[0m_engine\u001b[0m\u001b[0;34m.\u001b[0m\u001b[0mget_loc\u001b[0m\u001b[0;34m(\u001b[0m\u001b[0mself\u001b[0m\u001b[0;34m.\u001b[0m\u001b[0m_maybe_cast_indexer\u001b[0m\u001b[0;34m(\u001b[0m\u001b[0mkey\u001b[0m\u001b[0;34m)\u001b[0m\u001b[0;34m)\u001b[0m\u001b[0;34m\u001b[0m\u001b[0;34m\u001b[0m\u001b[0m\n\u001b[0m\u001b[1;32m   2649\u001b[0m         \u001b[0mindexer\u001b[0m \u001b[0;34m=\u001b[0m \u001b[0mself\u001b[0m\u001b[0;34m.\u001b[0m\u001b[0mget_indexer\u001b[0m\u001b[0;34m(\u001b[0m\u001b[0;34m[\u001b[0m\u001b[0mkey\u001b[0m\u001b[0;34m]\u001b[0m\u001b[0;34m,\u001b[0m \u001b[0mmethod\u001b[0m\u001b[0;34m=\u001b[0m\u001b[0mmethod\u001b[0m\u001b[0;34m,\u001b[0m \u001b[0mtolerance\u001b[0m\u001b[0;34m=\u001b[0m\u001b[0mtolerance\u001b[0m\u001b[0;34m)\u001b[0m\u001b[0;34m\u001b[0m\u001b[0;34m\u001b[0m\u001b[0m\n\u001b[1;32m   2650\u001b[0m         \u001b[0;32mif\u001b[0m \u001b[0mindexer\u001b[0m\u001b[0;34m.\u001b[0m\u001b[0mndim\u001b[0m \u001b[0;34m>\u001b[0m \u001b[0;36m1\u001b[0m \u001b[0;32mor\u001b[0m \u001b[0mindexer\u001b[0m\u001b[0;34m.\u001b[0m\u001b[0msize\u001b[0m \u001b[0;34m>\u001b[0m \u001b[0;36m1\u001b[0m\u001b[0;34m:\u001b[0m\u001b[0;34m\u001b[0m\u001b[0;34m\u001b[0m\u001b[0m\n",
          "\u001b[0;32mpandas/_libs/index.pyx\u001b[0m in \u001b[0;36mpandas._libs.index.IndexEngine.get_loc\u001b[0;34m()\u001b[0m\n",
          "\u001b[0;32mpandas/_libs/index.pyx\u001b[0m in \u001b[0;36mpandas._libs.index.IndexEngine.get_loc\u001b[0;34m()\u001b[0m\n",
          "\u001b[0;32mpandas/_libs/index.pyx\u001b[0m in \u001b[0;36mpandas._libs.index.IndexEngine._get_loc_duplicates\u001b[0;34m()\u001b[0m\n",
          "\u001b[0;32mpandas/_libs/index_class_helper.pxi\u001b[0m in \u001b[0;36mpandas._libs.index.Float64Engine._maybe_get_bool_indexer\u001b[0;34m()\u001b[0m\n",
          "\u001b[0;31mKeyError\u001b[0m: 'ENTRY'"
         ]
        }
       ]
      }
     },
     "825635ef87bd4faeada4837f9d37d897": {
      "model_module": "@jupyter-widgets/controls",
      "model_module_version": "1.5.0",
      "model_name": "DropdownModel",
      "state": {
       "_options_labels": [
        "MONTH_MEAN",
        "WEEKDAY_MEAN",
        "HOUR_MEAN",
        "DATE_MEAN",
        "DATE_AND_HOUR_MEAN",
        "MONTH_AND_YEAR_MEAN",
        "YEAR_MEAN",
        "DAY_MEAN"
       ],
       "description": "Aggregation Index:",
       "index": 0,
       "layout": "IPY_MODEL_1f2788960aab418a86fa2f2524423bed",
       "style": "IPY_MODEL_d9968a521c8a42448b8944117cfc9f97"
      }
     },
     "8a8b1d4e22034a4cba1ba5043c72e71c": {
      "model_module": "@jupyter-widgets/controls",
      "model_module_version": "1.5.0",
      "model_name": "DescriptionStyleModel",
      "state": {
       "description_width": "initial"
      }
     },
     "9252ace2e148443e9ac88190d3da7cb9": {
      "model_module": "@jupyter-widgets/controls",
      "model_module_version": "1.5.0",
      "model_name": "DescriptionStyleModel",
      "state": {
       "description_width": "initial"
      }
     },
     "93a757932f1f4a15b64e04761ea6f277": {
      "model_module": "@jupyter-widgets/controls",
      "model_module_version": "1.5.0",
      "model_name": "ButtonModel",
      "state": {
       "description": "Click to Graph",
       "layout": "IPY_MODEL_b699016be9ec4f62bc30b23ca6e9ef2b",
       "style": "IPY_MODEL_30657f069edf4a748b71f0035856aa40"
      }
     },
     "9a8ed9aa51754466a3959da2011b39e1": {
      "model_module": "@jupyter-widgets/base",
      "model_module_version": "1.2.0",
      "model_name": "LayoutModel",
      "state": {
       "width": "max-content"
      }
     },
     "a79cc6414eff43bc85493f3b97bbbbda": {
      "model_module": "@jupyter-widgets/output",
      "model_module_version": "1.0.0",
      "model_name": "OutputModel",
      "state": {
       "layout": "IPY_MODEL_c8a94b544e7440fa8eeebef03efb3b1a"
      }
     },
     "a9509f051c1248268e8cafbca614002c": {
      "model_module": "@jupyter-widgets/controls",
      "model_module_version": "1.5.0",
      "model_name": "DescriptionStyleModel",
      "state": {
       "description_width": "initial"
      }
     },
     "af86c1ce70764521bd55836c19eb21b7": {
      "model_module": "@jupyter-widgets/base",
      "model_module_version": "1.2.0",
      "model_name": "LayoutModel",
      "state": {}
     },
     "b699016be9ec4f62bc30b23ca6e9ef2b": {
      "model_module": "@jupyter-widgets/base",
      "model_module_version": "1.2.0",
      "model_name": "LayoutModel",
      "state": {}
     },
     "c045e88728134851a8027755704d7e32": {
      "model_module": "@jupyter-widgets/base",
      "model_module_version": "1.2.0",
      "model_name": "LayoutModel",
      "state": {}
     },
     "c137734893fc4d0199d4c41eb0af525c": {
      "model_module": "@jupyter-widgets/controls",
      "model_module_version": "1.5.0",
      "model_name": "ButtonModel",
      "state": {
       "description": "Click to Graph",
       "layout": "IPY_MODEL_4a736392ea3e4151a3d02e4c64253409",
       "style": "IPY_MODEL_04a0534689274a1ab2d94a3926f272db"
      }
     },
     "c17e74edea714d0cb882e7da829f3b4f": {
      "model_module": "@jupyter-widgets/base",
      "model_module_version": "1.2.0",
      "model_name": "LayoutModel",
      "state": {}
     },
     "c3042e8dcc1b4aa8a17076aa47b8be7d": {
      "model_module": "@jupyter-widgets/base",
      "model_module_version": "1.2.0",
      "model_name": "LayoutModel",
      "state": {
       "width": "max-content"
      }
     },
     "c77ed0579f564d7bb2d25b259595b6c6": {
      "model_module": "@jupyter-widgets/controls",
      "model_module_version": "1.5.0",
      "model_name": "DropdownModel",
      "state": {
       "_options_labels": [
        "ALL",
        "2020-10-07",
        "2020-10-08",
        "2020-10-09",
        "2020-10-10",
        "2020-10-11",
        "2020-10-12",
        "2020-10-13",
        "2020-10-14",
        "2020-10-15",
        "2020-10-16",
        "2020-10-17",
        "2020-10-18",
        "2020-10-19",
        "2020-10-20",
        "2020-10-21",
        "2020-10-22",
        "2020-10-23",
        "2020-10-24",
        "2020-10-25",
        "2020-10-26",
        "2020-10-27"
       ],
       "description": "Start Date:",
       "index": 1,
       "layout": "IPY_MODEL_49d1d96560e94ee9a40f02acaae25f62",
       "style": "IPY_MODEL_e4d6b58ae5ec47e684674980cca6dbeb"
      }
     },
     "c8a94b544e7440fa8eeebef03efb3b1a": {
      "model_module": "@jupyter-widgets/base",
      "model_module_version": "1.2.0",
      "model_name": "LayoutModel",
      "state": {}
     },
     "c992f89fb5694368a702c8e33a4e113f": {
      "model_module": "@jupyter-widgets/base",
      "model_module_version": "1.2.0",
      "model_name": "LayoutModel",
      "state": {
       "width": "max-content"
      }
     },
     "d02a09d7a5c44a00aa93d7bf29043116": {
      "model_module": "@jupyter-widgets/controls",
      "model_module_version": "1.5.0",
      "model_name": "DescriptionStyleModel",
      "state": {
       "description_width": "initial"
      }
     },
     "d9968a521c8a42448b8944117cfc9f97": {
      "model_module": "@jupyter-widgets/controls",
      "model_module_version": "1.5.0",
      "model_name": "DescriptionStyleModel",
      "state": {
       "description_width": "initial"
      }
     },
     "e081d78d2945464fb9db7d9a7460435b": {
      "model_module": "@jupyter-widgets/controls",
      "model_module_version": "1.5.0",
      "model_name": "DescriptionStyleModel",
      "state": {
       "description_width": "initial"
      }
     },
     "e27631a402074861b379c1033569e338": {
      "model_module": "@jupyter-widgets/controls",
      "model_module_version": "1.5.0",
      "model_name": "DropdownModel",
      "state": {
       "_options_labels": [
        "ALL",
        "2020-10-07",
        "2020-10-08",
        "2020-10-09",
        "2020-10-10",
        "2020-10-11",
        "2020-10-12",
        "2020-10-13",
        "2020-10-14",
        "2020-10-15",
        "2020-10-16",
        "2020-10-17",
        "2020-10-18",
        "2020-10-19",
        "2020-10-20",
        "2020-10-21",
        "2020-10-22",
        "2020-10-23",
        "2020-10-24",
        "2020-10-25",
        "2020-10-26",
        "2020-10-27"
       ],
       "description": "Start Date:",
       "index": 0,
       "layout": "IPY_MODEL_42d913e7055c4570a864d8adcfe6fcf1",
       "style": "IPY_MODEL_5c2d98dc49474f719f72615ddf29ef00"
      }
     },
     "e4d6b58ae5ec47e684674980cca6dbeb": {
      "model_module": "@jupyter-widgets/controls",
      "model_module_version": "1.5.0",
      "model_name": "DescriptionStyleModel",
      "state": {
       "description_width": "initial"
      }
     },
     "e86060bdc3bc477a8cef0b2ee8db6541": {
      "model_module": "@jupyter-widgets/output",
      "model_module_version": "1.0.0",
      "model_name": "OutputModel",
      "state": {
       "layout": "IPY_MODEL_c045e88728134851a8027755704d7e32",
       "outputs": [
        {
         "ename": "KeyError",
         "evalue": "'ENTRY'",
         "output_type": "error",
         "traceback": [
          "\u001b[0;31m---------------------------------------------------------------------------\u001b[0m",
          "\u001b[0;31mTypeError\u001b[0m                                 Traceback (most recent call last)",
          "\u001b[0;32mpandas/_libs/index_class_helper.pxi\u001b[0m in \u001b[0;36mpandas._libs.index.Float64Engine._maybe_get_bool_indexer\u001b[0;34m()\u001b[0m\n",
          "\u001b[0;32mpandas/_libs/index_class_helper.pxi\u001b[0m in \u001b[0;36mpandas._libs.index.Float64Engine._maybe_get_bool_indexer\u001b[0;34m()\u001b[0m\n",
          "\u001b[0;31mTypeError\u001b[0m: Cannot convert bool to numpy.ndarray",
          "\nDuring handling of the above exception, another exception occurred:\n",
          "\u001b[0;31mKeyError\u001b[0m                                  Traceback (most recent call last)",
          "\u001b[0;32m/opt/conda/envs/Python-3.7-main/lib/python3.7/site-packages/pandas/core/indexes/base.py\u001b[0m in \u001b[0;36mget_loc\u001b[0;34m(self, key, method, tolerance)\u001b[0m\n\u001b[1;32m   2645\u001b[0m             \u001b[0;32mtry\u001b[0m\u001b[0;34m:\u001b[0m\u001b[0;34m\u001b[0m\u001b[0;34m\u001b[0m\u001b[0m\n\u001b[0;32m-> 2646\u001b[0;31m                 \u001b[0;32mreturn\u001b[0m \u001b[0mself\u001b[0m\u001b[0;34m.\u001b[0m\u001b[0m_engine\u001b[0m\u001b[0;34m.\u001b[0m\u001b[0mget_loc\u001b[0m\u001b[0;34m(\u001b[0m\u001b[0mkey\u001b[0m\u001b[0;34m)\u001b[0m\u001b[0;34m\u001b[0m\u001b[0;34m\u001b[0m\u001b[0m\n\u001b[0m\u001b[1;32m   2647\u001b[0m             \u001b[0;32mexcept\u001b[0m \u001b[0mKeyError\u001b[0m\u001b[0;34m:\u001b[0m\u001b[0;34m\u001b[0m\u001b[0;34m\u001b[0m\u001b[0m\n",
          "\u001b[0;32mpandas/_libs/index.pyx\u001b[0m in \u001b[0;36mpandas._libs.index.IndexEngine.get_loc\u001b[0;34m()\u001b[0m\n",
          "\u001b[0;32mpandas/_libs/index.pyx\u001b[0m in \u001b[0;36mpandas._libs.index.IndexEngine.get_loc\u001b[0;34m()\u001b[0m\n",
          "\u001b[0;32mpandas/_libs/index.pyx\u001b[0m in \u001b[0;36mpandas._libs.index.IndexEngine._get_loc_duplicates\u001b[0;34m()\u001b[0m\n",
          "\u001b[0;32mpandas/_libs/index_class_helper.pxi\u001b[0m in \u001b[0;36mpandas._libs.index.Float64Engine._maybe_get_bool_indexer\u001b[0;34m()\u001b[0m\n",
          "\u001b[0;31mKeyError\u001b[0m: 'ENTRY'",
          "\nDuring handling of the above exception, another exception occurred:\n",
          "\u001b[0;31mTypeError\u001b[0m                                 Traceback (most recent call last)",
          "\u001b[0;32mpandas/_libs/index_class_helper.pxi\u001b[0m in \u001b[0;36mpandas._libs.index.Float64Engine._maybe_get_bool_indexer\u001b[0;34m()\u001b[0m\n",
          "\u001b[0;32mpandas/_libs/index_class_helper.pxi\u001b[0m in \u001b[0;36mpandas._libs.index.Float64Engine._maybe_get_bool_indexer\u001b[0;34m()\u001b[0m\n",
          "\u001b[0;31mTypeError\u001b[0m: Cannot convert bool to numpy.ndarray",
          "\nDuring handling of the above exception, another exception occurred:\n",
          "\u001b[0;31mKeyError\u001b[0m                                  Traceback (most recent call last)",
          "\u001b[0;32m<ipython-input-44-a8613dc0f4ff>\u001b[0m in \u001b[0;36mon_button_clicked\u001b[0;34m(_)\u001b[0m\n\u001b[1;32m    120\u001b[0m       \u001b[0;32mwith\u001b[0m \u001b[0mout\u001b[0m\u001b[0;34m:\u001b[0m\u001b[0;34m\u001b[0m\u001b[0;34m\u001b[0m\u001b[0m\n\u001b[1;32m    121\u001b[0m         \u001b[0mout\u001b[0m\u001b[0;34m.\u001b[0m\u001b[0mclear_output\u001b[0m\u001b[0;34m(\u001b[0m\u001b[0;34m)\u001b[0m\u001b[0;34m\u001b[0m\u001b[0;34m\u001b[0m\u001b[0m\n\u001b[0;32m--> 122\u001b[0;31m         \u001b[0mcommon_filtering\u001b[0m\u001b[0;34m(\u001b[0m\u001b[0mdropdown_date_start\u001b[0m\u001b[0;34m.\u001b[0m\u001b[0mvalue\u001b[0m\u001b[0;34m,\u001b[0m \u001b[0mdropdown_date_end\u001b[0m\u001b[0;34m.\u001b[0m\u001b[0mvalue\u001b[0m\u001b[0;34m,\u001b[0m \u001b[0mdropdown_date\u001b[0m\u001b[0;34m.\u001b[0m\u001b[0mvalue\u001b[0m\u001b[0;34m)\u001b[0m\u001b[0;34m\u001b[0m\u001b[0;34m\u001b[0m\u001b[0m\n\u001b[0m\u001b[1;32m    123\u001b[0m \u001b[0;34m\u001b[0m\u001b[0m\n\u001b[1;32m    124\u001b[0m \u001b[0mbutton\u001b[0m\u001b[0;34m.\u001b[0m\u001b[0mon_click\u001b[0m\u001b[0;34m(\u001b[0m\u001b[0mon_button_clicked\u001b[0m\u001b[0;34m)\u001b[0m\u001b[0;34m\u001b[0m\u001b[0;34m\u001b[0m\u001b[0m\n",
          "\u001b[0;32m<ipython-input-44-a8613dc0f4ff>\u001b[0m in \u001b[0;36mcommon_filtering\u001b[0;34m(date_start, date_end, type_date)\u001b[0m\n\u001b[1;32m     34\u001b[0m \u001b[0;34m\u001b[0m\u001b[0m\n\u001b[1;32m     35\u001b[0m     \u001b[0;32mif\u001b[0m \u001b[0;34m(\u001b[0m\u001b[0mtype_date\u001b[0m \u001b[0;34m==\u001b[0m \u001b[0;34m'MONTH_MEAN'\u001b[0m\u001b[0;34m)\u001b[0m\u001b[0;34m:\u001b[0m\u001b[0;34m\u001b[0m\u001b[0;34m\u001b[0m\u001b[0m\n\u001b[0;32m---> 36\u001b[0;31m         \u001b[0mdf1\u001b[0m\u001b[0;34m[\u001b[0m\u001b[0;34m'MONTH_MEAN'\u001b[0m\u001b[0;34m]\u001b[0m \u001b[0;34m=\u001b[0m \u001b[0mpd\u001b[0m\u001b[0;34m.\u001b[0m\u001b[0mto_datetime\u001b[0m\u001b[0;34m(\u001b[0m\u001b[0mdf1\u001b[0m\u001b[0;34m[\u001b[0m\u001b[0;34m'ENTRY'\u001b[0m\u001b[0;34m]\u001b[0m\u001b[0;34m)\u001b[0m\u001b[0;34m.\u001b[0m\u001b[0mdt\u001b[0m\u001b[0;34m.\u001b[0m\u001b[0mmonth\u001b[0m  \u001b[0;31m# AVERAGE_MONTH\u001b[0m\u001b[0;34m\u001b[0m\u001b[0;34m\u001b[0m\u001b[0m\n\u001b[0m\u001b[1;32m     37\u001b[0m \u001b[0;34m\u001b[0m\u001b[0m\n\u001b[1;32m     38\u001b[0m     \u001b[0;32mif\u001b[0m \u001b[0;34m(\u001b[0m\u001b[0mtype_date\u001b[0m \u001b[0;34m==\u001b[0m \u001b[0;34m'WEEKDAY_MEAN'\u001b[0m\u001b[0;34m)\u001b[0m\u001b[0;34m:\u001b[0m\u001b[0;34m\u001b[0m\u001b[0;34m\u001b[0m\u001b[0m\n",
          "\u001b[0;32m/opt/conda/envs/Python-3.7-main/lib/python3.7/site-packages/pandas/core/frame.py\u001b[0m in \u001b[0;36m__getitem__\u001b[0;34m(self, key)\u001b[0m\n\u001b[1;32m   2798\u001b[0m             \u001b[0;32mif\u001b[0m \u001b[0mself\u001b[0m\u001b[0;34m.\u001b[0m\u001b[0mcolumns\u001b[0m\u001b[0;34m.\u001b[0m\u001b[0mnlevels\u001b[0m \u001b[0;34m>\u001b[0m \u001b[0;36m1\u001b[0m\u001b[0;34m:\u001b[0m\u001b[0;34m\u001b[0m\u001b[0;34m\u001b[0m\u001b[0m\n\u001b[1;32m   2799\u001b[0m                 \u001b[0;32mreturn\u001b[0m \u001b[0mself\u001b[0m\u001b[0;34m.\u001b[0m\u001b[0m_getitem_multilevel\u001b[0m\u001b[0;34m(\u001b[0m\u001b[0mkey\u001b[0m\u001b[0;34m)\u001b[0m\u001b[0;34m\u001b[0m\u001b[0;34m\u001b[0m\u001b[0m\n\u001b[0;32m-> 2800\u001b[0;31m             \u001b[0mindexer\u001b[0m \u001b[0;34m=\u001b[0m \u001b[0mself\u001b[0m\u001b[0;34m.\u001b[0m\u001b[0mcolumns\u001b[0m\u001b[0;34m.\u001b[0m\u001b[0mget_loc\u001b[0m\u001b[0;34m(\u001b[0m\u001b[0mkey\u001b[0m\u001b[0;34m)\u001b[0m\u001b[0;34m\u001b[0m\u001b[0;34m\u001b[0m\u001b[0m\n\u001b[0m\u001b[1;32m   2801\u001b[0m             \u001b[0;32mif\u001b[0m \u001b[0mis_integer\u001b[0m\u001b[0;34m(\u001b[0m\u001b[0mindexer\u001b[0m\u001b[0;34m)\u001b[0m\u001b[0;34m:\u001b[0m\u001b[0;34m\u001b[0m\u001b[0;34m\u001b[0m\u001b[0m\n\u001b[1;32m   2802\u001b[0m                 \u001b[0mindexer\u001b[0m \u001b[0;34m=\u001b[0m \u001b[0;34m[\u001b[0m\u001b[0mindexer\u001b[0m\u001b[0;34m]\u001b[0m\u001b[0;34m\u001b[0m\u001b[0;34m\u001b[0m\u001b[0m\n",
          "\u001b[0;32m/opt/conda/envs/Python-3.7-main/lib/python3.7/site-packages/pandas/core/indexes/numeric.py\u001b[0m in \u001b[0;36mget_loc\u001b[0;34m(self, key, method, tolerance)\u001b[0m\n\u001b[1;32m    506\u001b[0m         \u001b[0;32mexcept\u001b[0m \u001b[0;34m(\u001b[0m\u001b[0mTypeError\u001b[0m\u001b[0;34m,\u001b[0m \u001b[0mNotImplementedError\u001b[0m\u001b[0;34m)\u001b[0m\u001b[0;34m:\u001b[0m\u001b[0;34m\u001b[0m\u001b[0;34m\u001b[0m\u001b[0m\n\u001b[1;32m    507\u001b[0m             \u001b[0;32mpass\u001b[0m\u001b[0;34m\u001b[0m\u001b[0;34m\u001b[0m\u001b[0m\n\u001b[0;32m--> 508\u001b[0;31m         \u001b[0;32mreturn\u001b[0m \u001b[0msuper\u001b[0m\u001b[0;34m(\u001b[0m\u001b[0;34m)\u001b[0m\u001b[0;34m.\u001b[0m\u001b[0mget_loc\u001b[0m\u001b[0;34m(\u001b[0m\u001b[0mkey\u001b[0m\u001b[0;34m,\u001b[0m \u001b[0mmethod\u001b[0m\u001b[0;34m=\u001b[0m\u001b[0mmethod\u001b[0m\u001b[0;34m,\u001b[0m \u001b[0mtolerance\u001b[0m\u001b[0;34m=\u001b[0m\u001b[0mtolerance\u001b[0m\u001b[0;34m)\u001b[0m\u001b[0;34m\u001b[0m\u001b[0;34m\u001b[0m\u001b[0m\n\u001b[0m\u001b[1;32m    509\u001b[0m \u001b[0;34m\u001b[0m\u001b[0m\n\u001b[1;32m    510\u001b[0m     \u001b[0;34m@\u001b[0m\u001b[0mcache_readonly\u001b[0m\u001b[0;34m\u001b[0m\u001b[0;34m\u001b[0m\u001b[0m\n",
          "\u001b[0;32m/opt/conda/envs/Python-3.7-main/lib/python3.7/site-packages/pandas/core/indexes/base.py\u001b[0m in \u001b[0;36mget_loc\u001b[0;34m(self, key, method, tolerance)\u001b[0m\n\u001b[1;32m   2646\u001b[0m                 \u001b[0;32mreturn\u001b[0m \u001b[0mself\u001b[0m\u001b[0;34m.\u001b[0m\u001b[0m_engine\u001b[0m\u001b[0;34m.\u001b[0m\u001b[0mget_loc\u001b[0m\u001b[0;34m(\u001b[0m\u001b[0mkey\u001b[0m\u001b[0;34m)\u001b[0m\u001b[0;34m\u001b[0m\u001b[0;34m\u001b[0m\u001b[0m\n\u001b[1;32m   2647\u001b[0m             \u001b[0;32mexcept\u001b[0m \u001b[0mKeyError\u001b[0m\u001b[0;34m:\u001b[0m\u001b[0;34m\u001b[0m\u001b[0;34m\u001b[0m\u001b[0m\n\u001b[0;32m-> 2648\u001b[0;31m                 \u001b[0;32mreturn\u001b[0m \u001b[0mself\u001b[0m\u001b[0;34m.\u001b[0m\u001b[0m_engine\u001b[0m\u001b[0;34m.\u001b[0m\u001b[0mget_loc\u001b[0m\u001b[0;34m(\u001b[0m\u001b[0mself\u001b[0m\u001b[0;34m.\u001b[0m\u001b[0m_maybe_cast_indexer\u001b[0m\u001b[0;34m(\u001b[0m\u001b[0mkey\u001b[0m\u001b[0;34m)\u001b[0m\u001b[0;34m)\u001b[0m\u001b[0;34m\u001b[0m\u001b[0;34m\u001b[0m\u001b[0m\n\u001b[0m\u001b[1;32m   2649\u001b[0m         \u001b[0mindexer\u001b[0m \u001b[0;34m=\u001b[0m \u001b[0mself\u001b[0m\u001b[0;34m.\u001b[0m\u001b[0mget_indexer\u001b[0m\u001b[0;34m(\u001b[0m\u001b[0;34m[\u001b[0m\u001b[0mkey\u001b[0m\u001b[0;34m]\u001b[0m\u001b[0;34m,\u001b[0m \u001b[0mmethod\u001b[0m\u001b[0;34m=\u001b[0m\u001b[0mmethod\u001b[0m\u001b[0;34m,\u001b[0m \u001b[0mtolerance\u001b[0m\u001b[0;34m=\u001b[0m\u001b[0mtolerance\u001b[0m\u001b[0;34m)\u001b[0m\u001b[0;34m\u001b[0m\u001b[0;34m\u001b[0m\u001b[0m\n\u001b[1;32m   2650\u001b[0m         \u001b[0;32mif\u001b[0m \u001b[0mindexer\u001b[0m\u001b[0;34m.\u001b[0m\u001b[0mndim\u001b[0m \u001b[0;34m>\u001b[0m \u001b[0;36m1\u001b[0m \u001b[0;32mor\u001b[0m \u001b[0mindexer\u001b[0m\u001b[0;34m.\u001b[0m\u001b[0msize\u001b[0m \u001b[0;34m>\u001b[0m \u001b[0;36m1\u001b[0m\u001b[0;34m:\u001b[0m\u001b[0;34m\u001b[0m\u001b[0;34m\u001b[0m\u001b[0m\n",
          "\u001b[0;32mpandas/_libs/index.pyx\u001b[0m in \u001b[0;36mpandas._libs.index.IndexEngine.get_loc\u001b[0;34m()\u001b[0m\n",
          "\u001b[0;32mpandas/_libs/index.pyx\u001b[0m in \u001b[0;36mpandas._libs.index.IndexEngine.get_loc\u001b[0;34m()\u001b[0m\n",
          "\u001b[0;32mpandas/_libs/index.pyx\u001b[0m in \u001b[0;36mpandas._libs.index.IndexEngine._get_loc_duplicates\u001b[0;34m()\u001b[0m\n",
          "\u001b[0;32mpandas/_libs/index_class_helper.pxi\u001b[0m in \u001b[0;36mpandas._libs.index.Float64Engine._maybe_get_bool_indexer\u001b[0;34m()\u001b[0m\n",
          "\u001b[0;31mKeyError\u001b[0m: 'ENTRY'"
         ]
        }
       ]
      }
     },
     "ecd6c7457cdb486b8bf2a4fe83fe41f3": {
      "model_module": "@jupyter-widgets/controls",
      "model_module_version": "1.5.0",
      "model_name": "DropdownModel",
      "state": {
       "_options_labels": [
        "ALL",
        "2020-10-07",
        "2020-10-08",
        "2020-10-09",
        "2020-10-10",
        "2020-10-11",
        "2020-10-12",
        "2020-10-13",
        "2020-10-14",
        "2020-10-15",
        "2020-10-16",
        "2020-10-17",
        "2020-10-18",
        "2020-10-19",
        "2020-10-20",
        "2020-10-21",
        "2020-10-22",
        "2020-10-23",
        "2020-10-24",
        "2020-10-25",
        "2020-10-26",
        "2020-10-27"
       ],
       "description": "End Date:",
       "index": 21,
       "layout": "IPY_MODEL_c992f89fb5694368a702c8e33a4e113f",
       "style": "IPY_MODEL_8a8b1d4e22034a4cba1ba5043c72e71c"
      }
     },
     "f09a1039f8ec47ae8fbd0024887f97ec": {
      "model_module": "@jupyter-widgets/controls",
      "model_module_version": "1.5.0",
      "model_name": "DropdownModel",
      "state": {
       "_options_labels": [
        "MONTH_MEAN",
        "WEEKDAY_MEAN",
        "HOUR_MEAN",
        "DATE_MEAN",
        "DATE_AND_HOUR_MEAN",
        "MONTH_AND_YEAR_MEAN",
        "YEAR_MEAN",
        "DAY_MEAN"
       ],
       "description": "Aggregation Index:",
       "index": 0,
       "layout": "IPY_MODEL_55959c002e084dec81280c65f68ac19d",
       "style": "IPY_MODEL_e081d78d2945464fb9db7d9a7460435b"
      }
     },
     "f276df7e7bfe4215b91c0be6c6ab59cb": {
      "model_module": "@jupyter-widgets/base",
      "model_module_version": "1.2.0",
      "model_name": "LayoutModel",
      "state": {}
     },
     "fd16869ef4994a62a4d240288e97368a": {
      "model_module": "@jupyter-widgets/controls",
      "model_module_version": "1.5.0",
      "model_name": "DropdownModel",
      "state": {
       "_options_labels": [
        "ALL",
        "2020-10-07",
        "2020-10-08",
        "2020-10-09",
        "2020-10-10",
        "2020-10-11",
        "2020-10-12",
        "2020-10-13",
        "2020-10-14",
        "2020-10-15",
        "2020-10-16",
        "2020-10-17",
        "2020-10-18",
        "2020-10-19",
        "2020-10-20",
        "2020-10-21",
        "2020-10-22",
        "2020-10-23",
        "2020-10-24",
        "2020-10-25",
        "2020-10-26",
        "2020-10-27"
       ],
       "description": "Start Date:",
       "index": 0,
       "layout": "IPY_MODEL_9a8ed9aa51754466a3959da2011b39e1",
       "style": "IPY_MODEL_03bbf733a68a4da1b44c80b31cb89425"
      }
     },
     "fe3eef9b25894f46a58486b57d2d26bf": {
      "model_module": "@jupyter-widgets/controls",
      "model_module_version": "1.5.0",
      "model_name": "DropdownModel",
      "state": {
       "_options_labels": [
        "MONTH_MEAN",
        "WEEKDAY_MEAN",
        "HOUR_MEAN",
        "DATE_MEAN",
        "DATE_AND_HOUR_MEAN",
        "MONTH_AND_YEAR_MEAN",
        "YEAR_MEAN",
        "DAY_MEAN"
       ],
       "description": "Aggregation Index:",
       "index": 0,
       "layout": "IPY_MODEL_c3042e8dcc1b4aa8a17076aa47b8be7d",
       "style": "IPY_MODEL_9252ace2e148443e9ac88190d3da7cb9"
      }
     }
    },
    "version_major": 2,
    "version_minor": 0
   }
  }
 },
 "nbformat": 4,
 "nbformat_minor": 5
}
