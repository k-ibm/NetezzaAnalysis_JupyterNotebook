{
 "cells": [
  {
   "cell_type": "code",
   "execution_count": 1,
   "id": "governing-disclaimer",
   "metadata": {},
   "outputs": [],
   "source": [
    "import nzpy\n",
    "import os\n",
    "import pandas as pd\n",
    "import matplotlib.pyplot as plt\n",
    "from matplotlib.pyplot import figure\n",
    "from datetime import datetime\n",
    "import ipywidgets as widgets\n",
    "from IPython.display import display\n",
    "import time"
   ]
  },
  {
   "cell_type": "code",
   "execution_count": 2,
   "id": "computational-reset",
   "metadata": {},
   "outputs": [],
   "source": [
    "#Netezza Cloud Connection Information\n",
    "nz_host             = \"150.239.60.252\"\n",
    "nz_port             = 5480\n",
    "nz_user             = \"admin\"\n",
    "nz_password         = \"OWU5MzkwMzhjYzI3YTFmNmEyZmQ0OTY1\"\n",
    "\n",
    "nz_histdb           = \"HISTDBI\"  \n",
    "nz_schema           = \"ADMIN\"\n",
    "nzqh_table          = \"NZ_QUERY_HISTORY\"\n",
    "nzsu_table          = \"NZ_SYSUTIL_HISTORY\"\n",
    "\n",
    "nzqh_tsubmit_start  = \"\"\n",
    "nzqh_tsubmit_end    = \"\"\n",
    "nzqh_where          = \"\"\n",
    "nzqh_and            = \"\""
   ]
  },
  {
   "cell_type": "code",
   "execution_count": 3,
   "id": "molecular-coating",
   "metadata": {},
   "outputs": [
    {
     "data": {
      "text/plain": [
       "True"
      ]
     },
     "execution_count": 3,
     "metadata": {},
     "output_type": "execute_result"
    }
   ],
   "source": [
    "nzcon = nzpy.connect(user=nz_user, password=nz_password, host=nz_host, database=nz_histdb, port=nz_port)\n",
    "\n",
    "bool(nzcon)"
   ]
  },
  {
   "cell_type": "code",
   "execution_count": 4,
   "id": "deluxe-deposit",
   "metadata": {},
   "outputs": [],
   "source": [
    "ALL = 'ALL'\n",
    "def unique_sorted_values_plus_ALL(array):\n",
    "    unique = array.unique().tolist()\n",
    "    unique.sort()\n",
    "    unique.insert(0, ALL)\n",
    "    return unique"
   ]
  },
  {
   "cell_type": "code",
   "execution_count": 5,
   "id": "monthly-barrier",
   "metadata": {},
   "outputs": [],
   "source": [
    "\n",
    "sql_start = \"SELECT ENTRY FROM {}.{}\".format(nz_schema, nzsu_table)\n",
    "entry_df = pd.read_sql_query(sql_start, nzcon)\n",
    "entry_df.columns = entry_df.columns.str.decode('utf-8')\n",
    "\n",
    "# Pull just the date in format YYYY-MM-DD \n",
    "entry_df['DATE_MEAN'] = pd.to_datetime(entry_df['ENTRY']).dt.date\n"
   ]
  },
  {
   "cell_type": "code",
   "execution_count": 6,
   "id": "entitled-holmes",
   "metadata": {},
   "outputs": [],
   "source": [
    "dropdown_date = widgets.Dropdown(options = ['MONTH_MEAN', 'WEEKDAY_MEAN', 'HOUR_MEAN', 'DATE_MEAN', 'DATE_AND_HOUR_MEAN', 'MONTH_AND_YEAR_MEAN', 'YEAR_MEAN', 'DAY_MEAN'], description='Aggregation Index:', layout = {'width': 'max-content'}, style={'description_width': 'initial'})\n",
    "dropdown_date_start = widgets.Dropdown(options = unique_sorted_values_plus_ALL(entry_df.DATE_MEAN), description='Start Date:', layout = {'width': 'max-content'}, style={'description_width': 'initial'})\n",
    "dropdown_date_end = widgets.Dropdown(options = unique_sorted_values_plus_ALL(entry_df.DATE_MEAN), description='End Date:', layout = {'width': 'max-content'}, style={'description_width': 'initial'})\n",
    "button = widgets.Button(description='Click to Graph')\n",
    "out = widgets.Output()\n",
    "output_date = widgets.Output()\n",
    "plot_output = widgets.Output()\n",
    "\n",
    "def common_filtering(date_start, date_end, type_date):\n",
    "    output_date.clear_output()\n",
    "    plot_output.clear_output()\n",
    "\n",
    "\n",
    "    if (date_start == ALL) & (date_end == ALL):\n",
    "        starting_date = entry_df['DATE_MEAN'].min()\n",
    "        ending_date = entry_df['DATE_MEAN'].max()\n",
    "    elif (date_start == ALL):\n",
    "        starting_date = entry_df['DATE_MEAN'].min()\n",
    "        ending_date = date_end\n",
    "    elif (date_end == ALL):\n",
    "        starting_date = date_start\n",
    "        ending_date = entry_df['DATE_MEAN'].max()\n",
    "    else:\n",
    "        starting_date = date_start\n",
    "        ending_date = date_end\n",
    "        \n",
    "    nzsu_submit_start  = \"{} 00:00:00\".format(starting_date)\n",
    "    nzsu_submit_end    = \"{} 23:59:59\".format(ending_date)\n",
    "    nzsu_where          = \"WHERE ENTRY >= '{}' and ENTRY <= '{}'\".format(nzsu_submit_start,nzsu_submit_end)\n",
    "           \n",
    "    sql_dates = \"SELECT ENTRY, SPU_CPU, SPU_DISK, SPU_FABRIC, SPU_MEMORY FROM {}.{} {}\".format(nz_schema, nzsu_table, nzsu_where)\n",
    "    df1 = pd.read_sql_query(sql_dates, nzcon)\n",
    "    df1.columns = df1.columns.str.decode('utf-8')\n",
    "    \n",
    "    if (type_date == 'MONTH_MEAN'):\n",
    "        df1['MONTH_MEAN'] = pd.to_datetime(df1['ENTRY']).dt.month  # AVERAGE_MONTH\n",
    "        \n",
    "    if (type_date == 'WEEKDAY_MEAN'):\n",
    "        # Function to Convert Date in Format MM-DD-YYY to day of the Week\n",
    "        weekDays = (\"0 Monday\", \"1 Tuesday\", \"2 Wednesday\", \"3 Thursday\", \"4 Friday\", \"5 Saturday\", \"6 Sunday\")\n",
    "    \n",
    "        def convert_to_weekday(date):\n",
    "            dt = datetime.strptime(date, '%Y-%m-%d %H:%M:%S.%f')\n",
    "            return weekDays[dt.weekday()]\n",
    "        \n",
    "        date_list = df1['ENTRY'].tolist()\n",
    "        new_column = []\n",
    "        for i in date_list:\n",
    "            new_column.append(convert_to_weekday(i))\n",
    "\n",
    "        df1['WEEKDAY_MEAN'] = new_column\n",
    "        \n",
    "    if (type_date == 'HOUR_MEAN'):\n",
    "        df1['HOUR_MEAN'] = pd.to_datetime(df1['ENTRY']).dt.strftime(\"%H\")\n",
    "     \n",
    "    if (type_date == 'DATE_MEAN'):\n",
    "        df1['DATE_MEAN'] = pd.to_datetime(df1['ENTRY']).dt.date  # ENTRY_DATE\n",
    "\n",
    "    if (type_date == 'DATE_AND_HOUR_MEAN'):\n",
    "        df1['HOUR_MEAN'] = pd.to_datetime(df1['ENTRY']).dt.strftime(\"%H\")\n",
    "        df1['DATE_MEAN'] = pd.to_datetime(df1['ENTRY']).dt.date  # ENTRY_DATE\n",
    "        df1['DATE_AND_HOUR_MEAN'] = df1['DATE_MEAN'].astype(str) + \"-\" + df1['HOUR_MEAN'].astype(str)  #day by hour\n",
    "\n",
    "    if (type_date == 'MONTH_AND_YEAR_MEAN'):\n",
    "        df1['YEAR_MEAN'] = pd.to_datetime(df1['ENTRY']).dt.year\n",
    "        df1['MONTH_MEAN'] = pd.to_datetime(df1['ENTRY']).dt.month  # AVERAGE_MONTH\n",
    "        df1['MONTH_AND_YEAR_MEAN'] = df1['YEAR_MEAN'].astype(str) + \"-\" + df1['MONTH_MEAN'].astype(str) #YEAR_MONTH\n",
    "        \n",
    "    if (type_date == 'YEAR_MEAN'):\n",
    "        df1['YEAR_MEAN'] = pd.to_datetime(df1['ENTRY']).dt.year\n",
    "        \n",
    "    if (type_date == 'DAY_MEAN'):\n",
    "        df1['DAY_MEAN'] = pd.to_datetime(df1['ENTRY']).dt.strftime(\"%d\")     # ENTRY_DAY\n",
    "        \n",
    "    SPU_CPU_DF = df1.groupby([type_date])['SPU_CPU'].mean()\n",
    "    SPU_DISK_DF = df1.groupby([type_date])['SPU_DISK'].mean()\n",
    "    SPU_FABRIC_DF = df1.groupby([type_date])['SPU_FABRIC'].mean()\n",
    "    SPU_MEMORY_DF = df1.groupby([type_date])['SPU_MEMORY'].mean()\n",
    "\n",
    "    SPU_CPU_DataFrame = pd.DataFrame(SPU_CPU_DF)\n",
    "    SPU_DISK_DataFrame = pd.DataFrame(SPU_DISK_DF)\n",
    "    SPU_FABRIC_DataFrame = pd.DataFrame(SPU_FABRIC_DF)\n",
    "    SPU_MEMORY_DataFrame = pd.DataFrame(SPU_MEMORY_DF)\n",
    "    \n",
    "    CPU_DISK_MERG = pd.merge(SPU_CPU_DataFrame, SPU_DISK_DataFrame, on=type_date)\n",
    "    FABRIC_MEMORY_MERG = pd.merge(SPU_FABRIC_DataFrame, SPU_MEMORY_DataFrame, on=type_date)\n",
    "\n",
    "    merged_df1 = pd.merge(CPU_DISK_MERG, FABRIC_MEMORY_MERG, on=type_date)\n",
    "    merged_df1[type_date] = merged_df1.index\n",
    "    common_filter = merged_df1\n",
    "    \n",
    "    with output_date:\n",
    "            display(common_filter)\n",
    "    \n",
    "    with plot_output:\n",
    "        plt.plot(merged_df1[type_date], merged_df1['SPU_CPU'], label = \"SPU_CPU\")\n",
    "        plt.plot(merged_df1[type_date], merged_df1['SPU_DISK'], label = \"SPU_DISK\")\n",
    "        plt.plot(merged_df1[type_date], merged_df1['SPU_FABRIC'], label = \"SPU_FABRIC\")\n",
    "        plt.plot(merged_df1[type_date], merged_df1['SPU_MEMORY'], label = \"SPU_MEMORY\")\n",
    "\n",
    "        plt.xlabel(type_date, labelpad=20)\n",
    "        plt.ylabel('Average USAGE')\n",
    "        \n",
    "        if (type_date == 'DATE_AND_HOUR_MEAN' and len(merged_df1[type_date]) > 48):\n",
    "            plt.xticks(merged_df1[type_date][::10])\n",
    "        else:\n",
    "            plt.xticks(merged_df1[type_date])\n",
    "        \n",
    "        plt.xticks(rotation = 90)\n",
    "        plt.grid()\n",
    "        plt.legend(loc='upper center', bbox_to_anchor=(1.5, 1.05),\n",
    "            ncol=3, fancybox=True, shadow=True)\n",
    "        plt.title('Average Usage by ' + type_date + ' between ' + str(starting_date) + ' and ' + str(ending_date))\n",
    "        plt.rcParams[\"figure.figsize\"] = (30,30)\n",
    "        plt.rcParams.update({'font.size': 45})\n",
    "        plt.show()\n",
    "        \n",
    "    \n",
    "def on_button_clicked(_):\n",
    "      with out:\n",
    "        out.clear_output()\n",
    "        common_filtering(dropdown_date_start.value, dropdown_date_end.value, dropdown_date.value)\n",
    "\n",
    "button.on_click(on_button_clicked)"
   ]
  },
  {
   "cell_type": "markdown",
   "id": "widespread-horizontal",
   "metadata": {},
   "source": [
    "# Usage over Time"
   ]
  },
  {
   "cell_type": "code",
   "execution_count": 7,
   "id": "revised-haiti",
   "metadata": {},
   "outputs": [
    {
     "data": {
      "application/vnd.jupyter.widget-view+json": {
       "model_id": "feebe85fc0264f83ac48908f9dcc1ede",
       "version_major": 2,
       "version_minor": 0
      },
      "text/plain": [
       "Dropdown(description='Start Date:', layout=Layout(width='max-content'), options=('ALL', datetime.date(2020, 10…"
      ]
     },
     "metadata": {},
     "output_type": "display_data"
    },
    {
     "data": {
      "application/vnd.jupyter.widget-view+json": {
       "model_id": "1e0cdd25fb3449ed8c5cede8c3a9377b",
       "version_major": 2,
       "version_minor": 0
      },
      "text/plain": [
       "Dropdown(description='End Date:', layout=Layout(width='max-content'), options=('ALL', datetime.date(2020, 10, …"
      ]
     },
     "metadata": {},
     "output_type": "display_data"
    },
    {
     "data": {
      "application/vnd.jupyter.widget-view+json": {
       "model_id": "42ccf5526d3843e8b3e0dec6de5bd20b",
       "version_major": 2,
       "version_minor": 0
      },
      "text/plain": [
       "Dropdown(description='Aggregation Index:', layout=Layout(width='max-content'), options=('MONTH_MEAN', 'WEEKDAY…"
      ]
     },
     "metadata": {},
     "output_type": "display_data"
    },
    {
     "data": {
      "application/vnd.jupyter.widget-view+json": {
       "model_id": "e87984fded024be683baebd9a014eee1",
       "version_major": 2,
       "version_minor": 0
      },
      "text/plain": [
       "Button(description='Click to Graph', style=ButtonStyle())"
      ]
     },
     "metadata": {},
     "output_type": "display_data"
    },
    {
     "data": {
      "application/vnd.jupyter.widget-view+json": {
       "model_id": "47b5120c3c57456883b82930e1a64303",
       "version_major": 2,
       "version_minor": 0
      },
      "text/plain": [
       "Output()"
      ]
     },
     "metadata": {},
     "output_type": "display_data"
    },
    {
     "data": {
      "application/vnd.jupyter.widget-view+json": {
       "model_id": "d31f00b620f345a09474cc6a0de34406",
       "version_major": 2,
       "version_minor": 0
      },
      "text/plain": [
       "Output()"
      ]
     },
     "metadata": {},
     "output_type": "display_data"
    }
   ],
   "source": [
    "display(dropdown_date_start)\n",
    "display(dropdown_date_end)\n",
    "display(dropdown_date)\n",
    "display(button)\n",
    "display(output_date)\n",
    "display(plot_output)"
   ]
  },
  {
   "cell_type": "code",
   "execution_count": 8,
   "id": "alternative-serial",
   "metadata": {},
   "outputs": [
    {
     "name": "stdout",
     "output_type": "stream",
     "text": [
      "sql execute time:2.6143343448638916\n"
     ]
    }
   ],
   "source": [
    "sql_start = \"SELECT QH_TSUBMIT FROM {}.{} LIMIT 50000\".format(nz_schema, nzqh_table)\n",
    "\n",
    "start_time = time.time()\n",
    "entry_df2 = pd.read_sql_query(sql_start, nzcon)\n",
    "end_time = time.time()\n",
    "print(\"sql execute time:%s\" % (end_time - start_time))\n",
    "\n",
    "entry_df2.columns = entry_df2.columns.str.decode('utf-8')\n",
    "\n",
    "# Pull just the date in format YYYY-MM-DD \n",
    "entry_df2['DATE_MEAN'] = pd.to_datetime(entry_df2['QH_TSUBMIT']).dt.date\n",
    "\n",
    "\n",
    "## takes about 3 minutes for 3 million entries"
   ]
  },
  {
   "cell_type": "code",
   "execution_count": 9,
   "id": "abroad-football",
   "metadata": {},
   "outputs": [],
   "source": [
    "dropdown_date2 = widgets.Dropdown(options = ['MONTH_MEAN', 'WEEKDAY_MEAN', 'HOUR_MEAN', 'DATE_MEAN', 'DATE_AND_HOUR_MEAN', 'MONTH_AND_YEAR_MEAN', 'YEAR_MEAN', 'DAY_MEAN'], description='Aggregation Index:', layout = {'width': 'max-content'}, style={'description_width': 'initial'})\n",
    "dropdown_date_start2 = widgets.Dropdown(options = unique_sorted_values_plus_ALL(entry_df2.DATE_MEAN), description='Start Date:', layout = {'width': 'max-content'}, style={'description_width': 'initial'})\n",
    "dropdown_date_end2 = widgets.Dropdown(options = unique_sorted_values_plus_ALL(entry_df2.DATE_MEAN), description='End Date:', layout = {'width': 'max-content'}, style={'description_width': 'initial'})\n",
    "button2 = widgets.Button(description='Click to Graph')\n",
    "out2 = widgets.Output()\n",
    "output_date2 = widgets.Output()\n",
    "plot_output2 = widgets.Output()\n",
    "\n",
    "\n",
    "def common_filtering2(date_start2, date_end2, type_date2):\n",
    "    output_date2.clear_output()\n",
    "    plot_output2.clear_output()\n",
    "    \n",
    "    if (date_start2 == ALL) & (date_end2 == ALL):\n",
    "        starting_date2 = entry_df2['DATE_MEAN'].min()\n",
    "        ending_date2 = entry_df2['DATE_MEAN'].max()\n",
    "    elif (date_start2 == ALL):\n",
    "        starting_date2 = entry_df2['DATE_MEAN'].min()\n",
    "        ending_date2 = date_end2\n",
    "    elif (date_end2 == ALL):\n",
    "        starting_date2 = date_start2\n",
    "        ending_date2 = entry_df2['DATE_MEAN'].max()\n",
    "    else:\n",
    "        starting_date2 = date_start2\n",
    "        ending_date2 = date_end2\n",
    "\n",
    "    nzqh_submit_start  = \"{} 00:00:00\".format(starting_date2)\n",
    "    nzqh_submit_end    = \"{} 23:59:59\".format(ending_date2)\n",
    "    nzqh_where          = \"WHERE QH_TSUBMIT >= '{}' and QH_TSUBMIT <= '{}'\".format(nzqh_submit_start,nzqh_submit_end)\n",
    "\n",
    "    start_time = time.time()\n",
    "    sql_dates = \"SELECT QH_USER, QH_DATABASE, QH_SQL, QH_TSUBMIT FROM {}.{} {} LIMIT 1000\".format(nz_schema, nzqh_table, nzqh_where)\n",
    "    df2 = pd.read_sql_query(sql_dates, nzcon)\n",
    "    df2.columns = df2.columns.str.decode('utf-8')\n",
    "    \n",
    "    if (type_date2 == 'MONTH_MEAN'):\n",
    "        df2['MONTH_MEAN'] = pd.to_datetime(df2['QH_TSUBMIT']).dt.month  # AVERAGE_MONTH\n",
    "        df2['YEAR_MEAN'] = pd.to_datetime(df2['QH_TSUBMIT']).dt.year\n",
    "        df2['MONTH_AND_YEAR_MEAN'] = df2['YEAR_MEAN'].astype(str) + \"-\" + df2['MONTH_MEAN'].astype(str) #YEAR_MONTH\n",
    "        \n",
    "        df22 = df2.groupby(['MONTH_AND_YEAR_MEAN']).agg({'QH_SQL': 'count', 'MONTH_MEAN': 'first'})\n",
    "        \n",
    "    if (type_date2 == 'WEEKDAY_MEAN'):\n",
    "        # Function to Convert Date in Format MM-DD-YYY to day of the Week\n",
    "        weekDays = (\"0 Monday\", \"1 Tuesday\", \"2 Wednesday\", \"3 Thursday\", \"4 Friday\", \"5 Saturday\", \"6 Sunday\")\n",
    "    \n",
    "        def convert_to_weekday(date):\n",
    "            dt = datetime.strptime(date, '%Y-%m-%d %H:%M:%S.%f')\n",
    "            return weekDays[dt.weekday()]\n",
    "        \n",
    "        date_list = df2['QH_TSUBMIT'].tolist()\n",
    "        new_column = []\n",
    "        for i in date_list:\n",
    "            new_column.append(convert_to_weekday(i))\n",
    "\n",
    "        df2['WEEKDAY_MEAN'] = new_column\n",
    "        df2['DATE_MEAN'] = pd.to_datetime(df2['QH_TSUBMIT']).dt.date  # ENTRY_DATE\n",
    "        \n",
    "        df22 = df2.groupby(['DATE_MEAN']).agg({'QH_SQL': 'count', 'WEEKDAY_MEAN': 'first'})\n",
    "        \n",
    "    if (type_date2 == 'HOUR_MEAN'):\n",
    "        df2['HOUR_MEAN'] = pd.to_datetime(df2['QH_TSUBMIT']).dt.strftime(\"%H\")\n",
    "        df2['DATE_MEAN'] = pd.to_datetime(df2['QH_TSUBMIT']).dt.date  # ENTRY_DATE\n",
    "        df2['DATE_AND_HOUR_MEAN'] = df2['DATE_MEAN'].astype(str) + \"-\" + df2['HOUR_MEAN'].astype(str)  #day by hour\n",
    "       \n",
    "        df22 = df2.groupby(['DATE_AND_HOUR_MEAN']).agg({'QH_SQL': 'count', 'HOUR_MEAN': 'first'})\n",
    "        \n",
    "    if (type_date2 == 'DATE_MEAN'):\n",
    "        df2['DATE_MEAN'] = pd.to_datetime(df2['QH_TSUBMIT']).dt.date  # ENTRY_DATE\n",
    "        df22 = df2.groupby(['DATE_MEAN']).agg({'QH_SQL': 'count', 'DATE_MEAN': 'first'})\n",
    "\n",
    "    if (type_date2 == 'DATE_AND_HOUR_MEAN'):\n",
    "        df2['HOUR_MEAN'] = pd.to_datetime(df2['QH_TSUBMIT']).dt.strftime(\"%H\")\n",
    "        df2['DATE_MEAN'] = pd.to_datetime(df2['QH_TSUBMIT']).dt.date  # ENTRY_DATE\n",
    "        df2['DATE_AND_HOUR_MEAN'] = df2['DATE_MEAN'].astype(str) + \"-\" + df2['HOUR_MEAN'].astype(str)  #day by hour\n",
    "        df22 = df2.groupby(['DATE_AND_HOUR_MEAN']).agg({'QH_SQL': 'count', 'DATE_AND_HOUR_MEAN': 'first'})\n",
    "\n",
    "\n",
    "    if (type_date2 == 'MONTH_AND_YEAR_MEAN'):\n",
    "        df2['YEAR_MEAN'] = pd.to_datetime(df2['QH_TSUBMIT']).dt.year\n",
    "        df2['MONTH_MEAN'] = pd.to_datetime(df2['QH_TSUBMIT']).dt.month  # AVERAGE_MONTH\n",
    "        df2['MONTH_AND_YEAR_MEAN'] = df2['YEAR_MEAN'].astype(str) + \"-\" + df2['MONTH_MEAN'].astype(str) #YEAR_MONTH\n",
    "        df22 = df2.groupby(['MONTH_AND_YEAR_MEAN']).agg({'QH_SQL': 'count', 'MONTH_AND_YEAR_MEAN': 'first'})\n",
    "\n",
    "    if (type_date2 == 'YEAR_MEAN'):\n",
    "        df2['YEAR_MEAN'] = pd.to_datetime(df2['QH_TSUBMIT']).dt.year\n",
    "        df22 = df2.groupby(['YEAR_MEAN']).agg({'QH_SQL': 'count', 'YEAR_MEAN': 'first'})\n",
    "\n",
    "    if (type_date2 == 'DAY_MEAN'):\n",
    "        df2['DAY_MEAN'] = pd.to_datetime(df2['QH_TSUBMIT']).dt.strftime(\"%d\")     # ENTRY_DAY\n",
    "        df2['DATE_MEAN'] = pd.to_datetime(df2['QH_TSUBMIT']).dt.date  # ENTRY_DATE\n",
    "        df22 = df2.groupby(['DATE_MEAN']).agg({'QH_SQL': 'count', 'DAY_MEAN': 'first'})\n",
    "    \n",
    "    df22.index.names = ['Date']\n",
    "        \n",
    "    MEAN_DF = df22.groupby([type_date2]).mean()\n",
    "    SUM_DF = df22.groupby([type_date2]).sum()\n",
    "\n",
    "    merged_df2 = pd.merge(MEAN_DF, SUM_DF, on=type_date2)\n",
    "    merged_df2.columns = ['AVG', 'COUNT']\n",
    "    merged_df2.reset_index(inplace=True)\n",
    "    merged_df2 = merged_df2.rename(columns = {'index':'Date'})\n",
    "\n",
    "    \n",
    "    common_filter2 = merged_df2\n",
    "    \n",
    "    with output_date2:\n",
    "            display(common_filter2)\n",
    "    \n",
    "    with plot_output2:\n",
    "        merged_df2.plot(x=type_date2, y=[\"AVG\", \"COUNT\"], kind=\"bar\")\n",
    "        plt.xlabel(type_date2, labelpad = 20)\n",
    "        plt.ylabel('QUERY COUNT')\n",
    "        plt.xticks(rotation = 90)\n",
    "        plt.grid()\n",
    "        plt.legend(loc='upper center', bbox_to_anchor=(1.5, 1.05),\n",
    "            ncol=3, fancybox=True, shadow=True)\n",
    "        plt.title('QUERY VOLUME by  ' + type_date2 + ' between ' + str(starting_date2) + ' and ' + str(ending_date2))\n",
    "        plt.rcParams[\"figure.figsize\"] = (20,30)\n",
    "        plt.rcParams.update({'font.size': 22})\n",
    "        plt.show()\n",
    "        end_time = time.time()\n",
    "        print(\"sql execute time:%s\" % (end_time - start_time))\n",
    "    \n",
    "            \n",
    "\n",
    "\n",
    "def on_button_clicked2(_):\n",
    "      with out2:\n",
    "        out2.clear_output()\n",
    "        common_filtering2(dropdown_date_start2.value, dropdown_date_end2.value, dropdown_date2.value)\n",
    "\n",
    "button2.on_click(on_button_clicked2)\n"
   ]
  },
  {
   "cell_type": "markdown",
   "id": "mental-million",
   "metadata": {},
   "source": [
    "# Volume Over Time"
   ]
  },
  {
   "cell_type": "code",
   "execution_count": 11,
   "id": "genetic-newsletter",
   "metadata": {},
   "outputs": [
    {
     "data": {
      "application/vnd.jupyter.widget-view+json": {
       "model_id": "16e4b3450c1b4707a252df5862ed96ec",
       "version_major": 2,
       "version_minor": 0
      },
      "text/plain": [
       "Dropdown(description='Start Date:', layout=Layout(width='max-content'), options=('ALL', datetime.date(2020, 10…"
      ]
     },
     "metadata": {},
     "output_type": "display_data"
    },
    {
     "data": {
      "application/vnd.jupyter.widget-view+json": {
       "model_id": "757f67d509d348beb84da4951ac5f44c",
       "version_major": 2,
       "version_minor": 0
      },
      "text/plain": [
       "Dropdown(description='End Date:', layout=Layout(width='max-content'), options=('ALL', datetime.date(2020, 10, …"
      ]
     },
     "metadata": {},
     "output_type": "display_data"
    },
    {
     "data": {
      "application/vnd.jupyter.widget-view+json": {
       "model_id": "d4193e4e10414f25a8ab5a60b40c8224",
       "version_major": 2,
       "version_minor": 0
      },
      "text/plain": [
       "Dropdown(description='Aggregation Index:', layout=Layout(width='max-content'), options=('MONTH_MEAN', 'WEEKDAY…"
      ]
     },
     "metadata": {},
     "output_type": "display_data"
    },
    {
     "data": {
      "application/vnd.jupyter.widget-view+json": {
       "model_id": "3a1a07fc96b74808a049a23f2517eca1",
       "version_major": 2,
       "version_minor": 0
      },
      "text/plain": [
       "Button(description='Click to Graph', style=ButtonStyle())"
      ]
     },
     "metadata": {},
     "output_type": "display_data"
    },
    {
     "data": {
      "application/vnd.jupyter.widget-view+json": {
       "model_id": "9a9a9176ec844a11a79b2b6bbaf7964a",
       "version_major": 2,
       "version_minor": 0
      },
      "text/plain": [
       "Output(outputs=({'output_type': 'display_data', 'data': {'text/plain': '   MONTH_MEAN   AVG  COUNT\\n0         …"
      ]
     },
     "metadata": {},
     "output_type": "display_data"
    },
    {
     "data": {
      "application/vnd.jupyter.widget-view+json": {
       "model_id": "381948bd52c0434783d05c7c34715880",
       "version_major": 2,
       "version_minor": 0
      },
      "text/plain": [
       "Output(outputs=({'output_type': 'display_data', 'data': {'text/plain': '<Figure size 432x288 with 1 Axes>', 'i…"
      ]
     },
     "metadata": {},
     "output_type": "display_data"
    }
   ],
   "source": [
    "display(dropdown_date_start2)\n",
    "display(dropdown_date_end2)\n",
    "display(dropdown_date2)\n",
    "display(button2)\n",
    "display(output_date2)\n",
    "display(plot_output2)"
   ]
  },
  {
   "cell_type": "code",
   "execution_count": 12,
   "id": "lucky-voluntary",
   "metadata": {},
   "outputs": [],
   "source": [
    "dropdown_date3 = widgets.Dropdown(options = ['MONTH_MEAN', 'WEEKDAY_MEAN', 'HOUR_MEAN', 'DATE_MEAN', 'DATE_AND_HOUR_MEAN', 'MONTH_AND_YEAR_MEAN', 'YEAR_MEAN', 'DAY_MEAN'], description='Aggregation Index:', layout = {'width': 'max-content'}, style={'description_width': 'initial'})\n",
    "dropdown_date_start3 = widgets.Dropdown(options = unique_sorted_values_plus_ALL(entry_df2.DATE_MEAN), description='Start Date:', layout = {'width': 'max-content'}, style={'description_width': 'initial'})\n",
    "dropdown_date_end3 = widgets.Dropdown(options = unique_sorted_values_plus_ALL(entry_df2.DATE_MEAN), description='End Date:', layout = {'width': 'max-content'}, style={'description_width': 'initial'})\n",
    "button3 = widgets.Button(description='Click to Graph')\n",
    "out3 = widgets.Output()\n",
    "output_date3 = widgets.Output()\n",
    "plot_output3 = widgets.Output()\n",
    "\n",
    "\n",
    "def common_filtering3(date_start3, date_end3, type_date3):\n",
    "    output_date3.clear_output()\n",
    "    plot_output3.clear_output()\n",
    "    \n",
    "    if (date_start3 == ALL) & (date_end3 == ALL):\n",
    "        starting_date3 = entry_df2['DATE_MEAN'].min()\n",
    "        ending_date3 = entry_df2['DATE_MEAN'].max()\n",
    "    elif (date_start3 == ALL):\n",
    "        starting_date3 = entry_df2['DATE_MEAN'].min()\n",
    "        ending_date3 = date_end3\n",
    "    elif (date_end3 == ALL):\n",
    "        starting_date3 = date_start3\n",
    "        ending_date3 = entry_df2['DATE_MEAN'].max()\n",
    "    else:\n",
    "        starting_date3 = date_start3\n",
    "        ending_date3 = date_end3\n",
    "\n",
    "    nzqh_submit_start  = \"{} 00:00:00\".format(starting_date3)\n",
    "    nzqh_submit_end    = \"{} 23:59:59\".format(ending_date3)\n",
    "    nzqh_where          = \"WHERE QH_TSUBMIT >= '{}' and QH_TSUBMIT <= '{}'\".format(nzqh_submit_start,nzqh_submit_end)\n",
    "\n",
    "    start_time = time.time()\n",
    "    sql_dates = \"SELECT QH_TSUBMIT, QH_TSTART, QH_TEND FROM {}.{} {} LIMIT 1000\".format(nz_schema, nzqh_table, nzqh_where)\n",
    "    df3 = pd.read_sql_query(sql_dates, nzcon)\n",
    "    df3.columns = df3.columns.str.decode('utf-8')\n",
    "    \n",
    "    df3['Q_TIME'] = (pd.to_datetime(df3['QH_TSTART']) - pd.to_datetime(df3['QH_TSUBMIT'])).dt.total_seconds()\n",
    "    df3['RUNTIME'] = (pd.to_datetime(df3['QH_TEND']) - pd.to_datetime(df3['QH_TSTART'])).dt.total_seconds()\n",
    "\n",
    "    \n",
    "    if (type_date3 == 'MONTH_MEAN'):\n",
    "        df3['MONTH_MEAN'] = pd.to_datetime(df3['QH_TSUBMIT']).dt.month  # AVERAGE_MONTH\n",
    "        df3['YEAR_MEAN'] = pd.to_datetime(df3['QH_TSUBMIT']).dt.year\n",
    "        \n",
    "    if (type_date3 == 'WEEKDAY_MEAN'):\n",
    "        # Function to Convert Date in Format MM-DD-YYY to day of the Week\n",
    "        weekDays = (\"0 Monday\", \"1 Tuesday\", \"2 Wednesday\", \"3 Thursday\", \"4 Friday\", \"5 Saturday\", \"6 Sunday\")\n",
    "    \n",
    "        def convert_to_weekday(date):\n",
    "            dt = datetime.strptime(date, '%Y-%m-%d %H:%M:%S.%f')\n",
    "            return weekDays[dt.weekday()]\n",
    "        \n",
    "        date_list = df3['QH_TSUBMIT'].tolist()\n",
    "        new_column = []\n",
    "        for i in date_list:\n",
    "            new_column.append(convert_to_weekday(i))\n",
    "\n",
    "        df3['WEEKDAY_MEAN'] = new_column\n",
    "        \n",
    "    if (type_date3 == 'HOUR_MEAN'):\n",
    "        df3['HOUR_MEAN'] = pd.to_datetime(df3['QH_TSUBMIT']).dt.strftime(\"%H\")\n",
    "        \n",
    "    if (type_date3 == 'DATE_MEAN'):\n",
    "        df3['DATE_MEAN'] = pd.to_datetime(df3['QH_TSUBMIT']).dt.date  # ENTRY_DATE\n",
    "       \n",
    "    if (type_date3 == 'DATE_AND_HOUR_MEAN'):\n",
    "        df3['HOUR_MEAN'] = pd.to_datetime(df3['QH_TSUBMIT']).dt.strftime(\"%H\")\n",
    "        df3['DATE_MEAN'] = pd.to_datetime(df3['QH_TSUBMIT']).dt.date  # ENTRY_DATE\n",
    "        df3['DATE_AND_HOUR_MEAN'] = df3['DATE_MEAN'].astype(str) + \"-\" + df3['HOUR_MEAN'].astype(str)  #day by hour\n",
    "        \n",
    "\n",
    "    if (type_date3 == 'MONTH_AND_YEAR_MEAN'):\n",
    "        df3['YEAR_MEAN'] = pd.to_datetime(df3['QH_TSUBMIT']).dt.year\n",
    "        df3['MONTH_MEAN'] = pd.to_datetime(df3['QH_TSUBMIT']).dt.month  # AVERAGE_MONTH\n",
    "        df3['MONTH_AND_YEAR_MEAN'] = df3['YEAR_MEAN'].astype(str) + \"-\" + df3['MONTH_MEAN'].astype(str) #YEAR_MONTH\n",
    "        \n",
    "    if (type_date3 == 'YEAR_MEAN'):\n",
    "        df3['YEAR_MEAN'] = pd.to_datetime(df3['QH_TSUBMIT']).dt.year\n",
    "        \n",
    "    if (type_date3 == 'DAY_MEAN'):\n",
    "        df3['DAY_MEAN'] = pd.to_datetime(df3['QH_TSUBMIT']).dt.strftime(\"%d\")     # ENTRY_DAY\n",
    "       \n",
    "    \n",
    "    QUEUE_TIME_DF = df3.groupby([type_date3])['Q_TIME'].sum()\n",
    "    RUNTIME_DF = df3.groupby([type_date3])['RUNTIME'].sum()\n",
    "        \n",
    "    QUEUE_TIME_DataFrame = pd.DataFrame(QUEUE_TIME_DF)\n",
    "    RUNTIME_DataFrame = pd.DataFrame(RUNTIME_DF)\n",
    "\n",
    "    merged_df3 = pd.merge(QUEUE_TIME_DataFrame, RUNTIME_DataFrame, on=type_date3)\n",
    "\n",
    "    merged_df3[type_date3] = merged_df3.index\n",
    "        \n",
    "    common_filter3 = merged_df3\n",
    "    \n",
    "    with output_date3:\n",
    "            display(common_filter3)\n",
    "    \n",
    "    with plot_output3:\n",
    "        plt.plot(merged_df3[type_date3], merged_df3['Q_TIME'], label = \"Queue Time\")\n",
    "        plt.plot(merged_df3[type_date3], merged_df3['RUNTIME'], label = \"Run Time\")\n",
    "       \n",
    "    \n",
    "        plt.xlabel(type_date3)\n",
    "        if (type_date3 == 'DATE_AND_HOUR_MEAN' and len(merged_df3[type_date3]) > 48):\n",
    "            plt.rc('font', size=30)\n",
    "            plt.xticks(merged_df3[type_date3][::10])\n",
    "        else:\n",
    "            plt.rc('font', size=30)\n",
    "            plt.xticks(merged_df3[type_date3])\n",
    "            \n",
    "        plt.ylabel('Time in Seconds')\n",
    "        #plt.xticks(merged_df3[type_date3])\n",
    "        plt.xticks(rotation = 75)\n",
    "        plt.grid()\n",
    "        plt.legend(loc='upper center', bbox_to_anchor=(1.5, 1.05),\n",
    "            ncol=3, fancybox=True, shadow=True)\n",
    "        plt.title('Runtime and Queue by  ' + type_date3 + ' between ' + str(starting_date3) + ' and ' + str(ending_date3))\n",
    "        plt.rcParams[\"figure.figsize\"] = (45,50)\n",
    "        plt.rc('font', size=30)\n",
    "        #plt.gcf()\n",
    "        plt.show()\n",
    "        end_time = time.time()\n",
    "        print(\"sql execute time:%s\" % (end_time - start_time))\n",
    "    \n",
    "            \n",
    "\n",
    "def on_button_clicked3(_):\n",
    "      with out3:\n",
    "        out3.clear_output()\n",
    "        common_filtering3(dropdown_date_start3.value, dropdown_date_end3.value, dropdown_date3.value)\n",
    "\n",
    "button3.on_click(on_button_clicked3)\n"
   ]
  },
  {
   "cell_type": "markdown",
   "id": "august-panel",
   "metadata": {},
   "source": [
    "# Runtime and Queue Time over Time"
   ]
  },
  {
   "cell_type": "code",
   "execution_count": 13,
   "id": "independent-health",
   "metadata": {},
   "outputs": [
    {
     "data": {
      "application/vnd.jupyter.widget-view+json": {
       "model_id": "bb0b2e2bd7764ef2a834ab1896030a5a",
       "version_major": 2,
       "version_minor": 0
      },
      "text/plain": [
       "Dropdown(description='Start Date:', layout=Layout(width='max-content'), options=('ALL', datetime.date(2020, 10…"
      ]
     },
     "metadata": {},
     "output_type": "display_data"
    },
    {
     "data": {
      "application/vnd.jupyter.widget-view+json": {
       "model_id": "df76b7f833c648b3b723cdd2409d4127",
       "version_major": 2,
       "version_minor": 0
      },
      "text/plain": [
       "Dropdown(description='End Date:', layout=Layout(width='max-content'), options=('ALL', datetime.date(2020, 10, …"
      ]
     },
     "metadata": {},
     "output_type": "display_data"
    },
    {
     "data": {
      "application/vnd.jupyter.widget-view+json": {
       "model_id": "922f4b9cc8bb4dd89a197abe671f7280",
       "version_major": 2,
       "version_minor": 0
      },
      "text/plain": [
       "Dropdown(description='Aggregation Index:', layout=Layout(width='max-content'), options=('MONTH_MEAN', 'WEEKDAY…"
      ]
     },
     "metadata": {},
     "output_type": "display_data"
    },
    {
     "data": {
      "application/vnd.jupyter.widget-view+json": {
       "model_id": "ff680fd80f694c5c83db3dda34a60157",
       "version_major": 2,
       "version_minor": 0
      },
      "text/plain": [
       "Button(description='Click to Graph', style=ButtonStyle())"
      ]
     },
     "metadata": {},
     "output_type": "display_data"
    },
    {
     "data": {
      "application/vnd.jupyter.widget-view+json": {
       "model_id": "29956278fd8543e49d28cd794faba0c4",
       "version_major": 2,
       "version_minor": 0
      },
      "text/plain": [
       "Output()"
      ]
     },
     "metadata": {},
     "output_type": "display_data"
    },
    {
     "data": {
      "application/vnd.jupyter.widget-view+json": {
       "model_id": "3f9f2acb3291412a8efa65657a609acb",
       "version_major": 2,
       "version_minor": 0
      },
      "text/plain": [
       "Output()"
      ]
     },
     "metadata": {},
     "output_type": "display_data"
    }
   ],
   "source": [
    "display(dropdown_date_start3)\n",
    "display(dropdown_date_end3)\n",
    "display(dropdown_date3)\n",
    "display(button3)\n",
    "display(output_date3)\n",
    "display(plot_output3)\n"
   ]
  },
  {
   "cell_type": "code",
   "execution_count": 16,
   "id": "rolled-treaty",
   "metadata": {},
   "outputs": [],
   "source": [
    "dropdown_date4 = widgets.Dropdown(options = ['MONTH_MEAN', 'WEEKDAY_MEAN', 'HOUR_MEAN', 'DATE_MEAN', 'DATE_AND_HOUR_MEAN', 'MONTH_AND_YEAR_MEAN', 'YEAR_MEAN', 'DAY_MEAN'], description='Aggregation Index:', layout = {'width': 'max-content'}, style={'description_width': 'initial'})\n",
    "dropdown_date_start4 = widgets.Dropdown(options = unique_sorted_values_plus_ALL(entry_df2.DATE_MEAN), description='Start Date:', layout = {'width': 'max-content'}, style={'description_width': 'initial'})\n",
    "dropdown_date_end4 = widgets.Dropdown(options = unique_sorted_values_plus_ALL(entry_df2.DATE_MEAN), description='End Date:', layout = {'width': 'max-content'}, style={'description_width': 'initial'})\n",
    "dropdown_demographic = widgets.Dropdown(options = ['Users', 'Database'], description = 'Group By: ', layout = {'width': 'max-content'}, style={'description_width': 'initial'})\n",
    "limit_slider = widgets.IntSlider(min=1, max=100, description = \"Amount of Users/Databases: \", style={'description_width': 'max-content'}, layout=widgets.Layout(width='50%'))\n",
    "button4 = widgets.Button(description='Click to Graph')\n",
    "out4 = widgets.Output()\n",
    "output_date4 = widgets.Output()\n",
    "plot_output4 = widgets.Output()\n",
    "\n",
    "\n",
    "def common_filtering4(date_start4, date_end4, type_date4, demo, limit_value):\n",
    "    output_date4.clear_output()\n",
    "    plot_output4.clear_output()\n",
    "    \n",
    "    if (date_start4 == ALL) & (date_end4 == ALL):\n",
    "        starting_date4 = entry_df2['DATE_MEAN'].min()\n",
    "        ending_date4 = entry_df2['DATE_MEAN'].max()\n",
    "    elif (date_start4 == ALL):\n",
    "        starting_date4 = entry_df2['DATE_MEAN'].min()\n",
    "        ending_date4 = date_end4\n",
    "    elif (date_end4 == ALL):\n",
    "        starting_date4 = date_start4\n",
    "        ending_date4 = entry_df2['DATE_MEAN'].max()\n",
    "    else:\n",
    "        starting_date4 = date_start4\n",
    "        ending_date4 = date_end4\n",
    "\n",
    "    nzqh_submit_start  = \"{} 00:00:00\".format(starting_date4)\n",
    "    nzqh_submit_end    = \"{} 23:59:59\".format(ending_date4)\n",
    "    nzqh_where          = \"QH_TSUBMIT >= '{}' and QH_TSUBMIT <= '{}'\".format(nzqh_submit_start,nzqh_submit_end)\n",
    "    \n",
    "    if (demo == 'Users'):\n",
    "        nzqh_demo = \"QH_USER\"\n",
    "    else:\n",
    "        nzqh_demo = \"QH_DATABASE\"\n",
    "        \n",
    "    sql_find_top_demo = \"SELECT {}, COUNT (QH_SQL) FROM {}.{} GROUP BY {} ORDER BY COUNT DESC LIMIT {}\".format(nzqh_demo, nz_schema, nzqh_table, nzqh_demo, limit_value)\n",
    "    limit_df = pd.read_sql_query(sql_find_top_demo, nzcon)\n",
    "    limit_df.columns = limit_df.columns.str.decode('utf-8')\n",
    "    demo_list = \"(\"\n",
    "    for x in limit_df[nzqh_demo]:\n",
    "        demo_list = demo_list + \"'\" + x + \"'\" + \",\"\n",
    "\n",
    "    demo_list = demo_list[:-1]\n",
    "    demo_list = demo_list + \")\"\n",
    "\n",
    "    start_time = time.time()  \n",
    "    sql_dates = \"SELECT QH_TSUBMIT, QH_SQL, {} FROM {}.{} WHERE {} and {} in {} LIMIT 50000\".format(nzqh_demo, nz_schema, nzqh_table, nzqh_where, nzqh_demo, demo_list)\n",
    "    df4 = pd.read_sql_query(sql_dates, nzcon)\n",
    "    df4.columns = df4.columns.str.decode('utf-8')\n",
    "     \n",
    "    \n",
    " \n",
    "    if (type_date4 == 'MONTH_MEAN'):\n",
    "        df4['MONTH_MEAN'] = pd.to_datetime(df4['QH_TSUBMIT']).dt.month  # AVERAGE_MONTH\n",
    "        df4['YEAR_MEAN'] = pd.to_datetime(df4['QH_TSUBMIT']).dt.year\n",
    "        \n",
    "        \n",
    "    if (type_date4 == 'WEEKDAY_MEAN'):\n",
    "        # Function to Convert Date in Format MM-DD-YYY to day of the Week\n",
    "        weekDays = (\"0 Monday\", \"1 Tuesday\", \"2 Wednesday\", \"3 Thursday\", \"4 Friday\", \"5 Saturday\", \"6 Sunday\")\n",
    "    \n",
    "        def convert_to_weekday(date):\n",
    "            dt = datetime.strptime(date, '%Y-%m-%d %H:%M:%S.%f')\n",
    "            return weekDays[dt.weekday()]\n",
    "        \n",
    "        date_list = df4['QH_TSUBMIT'].tolist()\n",
    "        new_column = []\n",
    "        for i in date_list:\n",
    "            new_column.append(convert_to_weekday(i))\n",
    "\n",
    "        df4['WEEKDAY_MEAN'] = new_column\n",
    "        \n",
    "    if (type_date4 == 'HOUR_MEAN'):\n",
    "        df4['HOUR_MEAN'] = pd.to_datetime(df4['QH_TSUBMIT']).dt.strftime(\"%H\")\n",
    "        \n",
    "    if (type_date4 == 'DATE_MEAN'):\n",
    "        df4['DATE_MEAN'] = pd.to_datetime(df4['QH_TSUBMIT']).dt.date  # ENTRY_DATE\n",
    "       \n",
    "    if (type_date4 == 'DATE_AND_HOUR_MEAN'):\n",
    "        df4['HOUR_MEAN'] = pd.to_datetime(df4['QH_TSUBMIT']).dt.strftime(\"%H\")\n",
    "        df4['DATE_MEAN'] = pd.to_datetime(df4['QH_TSUBMIT']).dt.date  # ENTRY_DATE\n",
    "        df4['DATE_AND_HOUR_MEAN'] = df4['DATE_MEAN'].astype(str) + \"-\" + df4['HOUR_MEAN'].astype(str)  #day by hour\n",
    "        \n",
    "\n",
    "    if (type_date4 == 'MONTH_AND_YEAR_MEAN'):\n",
    "        df4['YEAR_MEAN'] = pd.to_datetime(df4['QH_TSUBMIT']).dt.year\n",
    "        df4['MONTH_MEAN'] = pd.to_datetime(df4['QH_TSUBMIT']).dt.month  # AVERAGE_MONTH\n",
    "        df4['MONTH_AND_YEAR_MEAN'] = df4['YEAR_MEAN'].astype(str) + \"-\" + df4['MONTH_MEAN'].astype(str) #YEAR_MONTH\n",
    "        \n",
    "    if (type_date4 == 'YEAR_MEAN'):\n",
    "        df4['YEAR_MEAN'] = pd.to_datetime(df4['QH_TSUBMIT']).dt.year\n",
    "        \n",
    "    if (type_date4 == 'DAY_MEAN'):\n",
    "        df4['DAY_MEAN'] = pd.to_datetime(df4['QH_TSUBMIT']).dt.strftime(\"%d\")     # ENTRY_DAY\n",
    "       \n",
    " \n",
    "    DEMO_DF = df4.groupby([nzqh_demo, type_date4]).agg({'QH_SQL': 'count'})\n",
    "    plt.rcParams.update({'font.size': 40})\n",
    "    DEMO_DF.groupby([type_date4,nzqh_demo]).sum().unstack().plot(figsize=(30,15), kind='bar',y='QH_SQL', stacked=True, colormap=\"gist_rainbow\")\n",
    "    current_handles, _ = plt.gca().get_legend_handles_labels()\n",
    "    reversed_handles = reversed(current_handles)\n",
    "    labels = reversed(DEMO_DF.index.unique())\n",
    "    plt.legend(reversed_handles,labels,loc='best')\n",
    "    \n",
    "    common_filter4 = DEMO_DF\n",
    "    \n",
    "    with output_date4:\n",
    "            display(common_filter4)\n",
    "    \n",
    "    with plot_output4:\n",
    "        plt.xlabel(type_date4)\n",
    "        plt.ylabel('QUERY COUNT by ' + demo)\n",
    "        \n",
    "        plt.xticks(rotation = 90)\n",
    "        plt.grid()\n",
    "        plt.legend(loc='best',bbox_to_anchor=(1, 1),\n",
    "            ncol=3, fancybox=True, shadow=True) #bbox_to_anchor=(1.5, 1.05)\n",
    "        plt.title('QUERY VOLUME by  ' + type_date4 + ' between ' + str(starting_date4) + ' and ' + str(ending_date4))\n",
    "        plt.show()\n",
    "        end_time = time.time()\n",
    "        print(\"sql execute time:%s\" % (end_time - start_time))\n",
    "            \n",
    "\n",
    "\n",
    "def on_button_clicked4(_):\n",
    "      with out4:\n",
    "        out4.clear_output()\n",
    "        common_filtering4(dropdown_date_start4.value, dropdown_date_end4.value, dropdown_date4.value, dropdown_demographic.value, limit_slider.value)\n",
    "\n",
    "button4.on_click(on_button_clicked4)\n",
    "\n"
   ]
  },
  {
   "cell_type": "markdown",
   "id": "quarterly-hundred",
   "metadata": {},
   "source": [
    "# User and Database Volume Over Time"
   ]
  },
  {
   "cell_type": "code",
   "execution_count": 17,
   "id": "magnetic-mining",
   "metadata": {
    "scrolled": false
   },
   "outputs": [
    {
     "data": {
      "application/vnd.jupyter.widget-view+json": {
       "model_id": "7ff026e1d54d4230b709e84db537ae57",
       "version_major": 2,
       "version_minor": 0
      },
      "text/plain": [
       "Dropdown(description='Start Date:', layout=Layout(width='max-content'), options=('ALL', datetime.date(2020, 10…"
      ]
     },
     "metadata": {},
     "output_type": "display_data"
    },
    {
     "data": {
      "application/vnd.jupyter.widget-view+json": {
       "model_id": "ac795afc0570438bb7cd4b845e7c1fff",
       "version_major": 2,
       "version_minor": 0
      },
      "text/plain": [
       "Dropdown(description='End Date:', layout=Layout(width='max-content'), options=('ALL', datetime.date(2020, 10, …"
      ]
     },
     "metadata": {},
     "output_type": "display_data"
    },
    {
     "data": {
      "application/vnd.jupyter.widget-view+json": {
       "model_id": "f586329dcaf24a42b44a5bb182aa7bbf",
       "version_major": 2,
       "version_minor": 0
      },
      "text/plain": [
       "Dropdown(description='Aggregation Index:', layout=Layout(width='max-content'), options=('MONTH_MEAN', 'WEEKDAY…"
      ]
     },
     "metadata": {},
     "output_type": "display_data"
    },
    {
     "data": {
      "application/vnd.jupyter.widget-view+json": {
       "model_id": "508e7f432f4444de8689b30b68068b58",
       "version_major": 2,
       "version_minor": 0
      },
      "text/plain": [
       "Dropdown(description='Group By: ', layout=Layout(width='max-content'), options=('Users', 'Database'), style=De…"
      ]
     },
     "metadata": {},
     "output_type": "display_data"
    },
    {
     "data": {
      "application/vnd.jupyter.widget-view+json": {
       "model_id": "39e2e99e367141ea88b61910b9a4db81",
       "version_major": 2,
       "version_minor": 0
      },
      "text/plain": [
       "IntSlider(value=1, description='Amount of Users/Databases: ', layout=Layout(width='50%'), min=1, style=SliderS…"
      ]
     },
     "metadata": {},
     "output_type": "display_data"
    },
    {
     "data": {
      "application/vnd.jupyter.widget-view+json": {
       "model_id": "476678f9e7fc43f698ddeec040251d94",
       "version_major": 2,
       "version_minor": 0
      },
      "text/plain": [
       "Button(description='Click to Graph', style=ButtonStyle())"
      ]
     },
     "metadata": {},
     "output_type": "display_data"
    },
    {
     "data": {
      "application/vnd.jupyter.widget-view+json": {
       "model_id": "608291ca922749f3baa4090fc508dd7b",
       "version_major": 2,
       "version_minor": 0
      },
      "text/plain": [
       "Output()"
      ]
     },
     "metadata": {},
     "output_type": "display_data"
    }
   ],
   "source": [
    "display(dropdown_date_start4)\n",
    "display(dropdown_date_end4)\n",
    "display(dropdown_date4)\n",
    "display(dropdown_demographic)\n",
    "display(limit_slider)\n",
    "display(button4)\n",
    "#display(output_date4)\n",
    "display(plot_output4)\n"
   ]
  },
  {
   "cell_type": "code",
   "execution_count": null,
   "id": "outdoor-large",
   "metadata": {},
   "outputs": [],
   "source": []
  },
  {
   "cell_type": "code",
   "execution_count": null,
   "id": "identical-waterproof",
   "metadata": {},
   "outputs": [],
   "source": []
  },
  {
   "cell_type": "code",
   "execution_count": null,
   "id": "personal-olympus",
   "metadata": {},
   "outputs": [],
   "source": []
  },
  {
   "cell_type": "code",
   "execution_count": null,
   "id": "bibliographic-dream",
   "metadata": {},
   "outputs": [],
   "source": []
  }
 ],
 "metadata": {
  "hide_input": false,
  "kernelspec": {
   "display_name": "Python 3",
   "language": "python",
   "name": "python3"
  },
  "language_info": {
   "codemirror_mode": {
    "name": "ipython",
    "version": 3
   },
   "file_extension": ".py",
   "mimetype": "text/x-python",
   "name": "python",
   "nbconvert_exporter": "python",
   "pygments_lexer": "ipython3",
   "version": "3.9.2"
  }
 },
 "nbformat": 4,
 "nbformat_minor": 5
}
